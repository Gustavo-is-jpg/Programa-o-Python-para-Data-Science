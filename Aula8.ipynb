{
 "cells": [
  {
   "cell_type": "code",
   "execution_count": 13,
   "id": "03d9a31e",
   "metadata": {},
   "outputs": [
    {
     "name": "stdout",
     "output_type": "stream",
     "text": [
      "Versão do Numpy: 2.2.4\n"
     ]
    }
   ],
   "source": [
    "import numpy as np\n",
    "\n",
    "print('Versão do Numpy:', np.version.version)\n"
   ]
  },
  {
   "cell_type": "markdown",
   "id": "ccbb902c",
   "metadata": {},
   "source": [
    "# Manipulação em linha e colunas"
   ]
  },
  {
   "cell_type": "code",
   "execution_count": 14,
   "id": "79f688a4",
   "metadata": {},
   "outputs": [
    {
     "name": "stdout",
     "output_type": "stream",
     "text": [
      "[[1 2 3 4 5 6 7]\n",
      " [8 9 1 2 3 4 5]]\n",
      "Shepe do meu Array 2D (2, 7)\n"
     ]
    }
   ],
   "source": [
    "import numpy as np\n",
    "\n",
    "a = np.array([[1, 2, 3, 4, 5, 6, 7], [8, 9, 1, 2, 3, 4, 5]])\n",
    "\n",
    "print(a)\n",
    "print('Shepe do meu Array 2D', a.shape)"
   ]
  },
  {
   "cell_type": "markdown",
   "id": "bbfaca15",
   "metadata": {},
   "source": [
    "# Para pega um item especifico, uftilizamos a notação [linha, coluna]\n",
    "\n"
   ]
  },
  {
   "cell_type": "code",
   "execution_count": 15,
   "id": "edfac55f",
   "metadata": {},
   "outputs": [
    {
     "data": {
      "text/plain": [
       "np.int64(4)"
      ]
     },
     "execution_count": 15,
     "metadata": {},
     "output_type": "execute_result"
    }
   ],
   "source": [
    "a [0, 3]"
   ]
  },
  {
   "cell_type": "markdown",
   "id": "1a3a5fa9",
   "metadata": {},
   "source": [
    "# Para pega a segunda linha, por exemplo:\n"
   ]
  },
  {
   "cell_type": "code",
   "execution_count": 16,
   "id": "98247b06",
   "metadata": {},
   "outputs": [
    {
     "data": {
      "text/plain": [
       "array([8, 9, 1, 2, 3, 4, 5])"
      ]
     },
     "execution_count": 16,
     "metadata": {},
     "output_type": "execute_result"
    }
   ],
   "source": [
    "a [1]"
   ]
  },
  {
   "cell_type": "markdown",
   "id": "80c9e498",
   "metadata": {},
   "source": [
    "# Notação negativa\n"
   ]
  },
  {
   "cell_type": "code",
   "execution_count": 17,
   "id": "68287b0f",
   "metadata": {},
   "outputs": [
    {
     "data": {
      "text/plain": [
       "np.int64(5)"
      ]
     },
     "execution_count": 17,
     "metadata": {},
     "output_type": "execute_result"
    }
   ],
   "source": [
    "a[1, -1]"
   ]
  },
  {
   "cell_type": "markdown",
   "id": "f5a4a21e",
   "metadata": {},
   "source": [
    "# Pegar uma coluna especifica"
   ]
  },
  {
   "cell_type": "code",
   "execution_count": 18,
   "id": "374583c4",
   "metadata": {},
   "outputs": [
    {
     "name": "stdout",
     "output_type": "stream",
     "text": [
      "[[1 2 3 4 5 6 7]\n",
      " [8 9 1 2 3 4 5]]\n"
     ]
    },
    {
     "data": {
      "text/plain": [
       "array([3, 1])"
      ]
     },
     "execution_count": 18,
     "metadata": {},
     "output_type": "execute_result"
    }
   ],
   "source": [
    "print(a)\n",
    "\n",
    "\n",
    "\n",
    "a[:,2]"
   ]
  },
  {
   "cell_type": "markdown",
   "id": "963b6463",
   "metadata": {},
   "source": [
    "# Metodo de slicing, de lista, tembem funciona d oarray\n",
    "\n",
    "## [start_index:end_index] -> step não é obrigatorio\n",
    "## // caso não queiamos adicionar o end index, é so colocar:"
   ]
  },
  {
   "cell_type": "code",
   "execution_count": 19,
   "id": "270a6d30",
   "metadata": {},
   "outputs": [
    {
     "name": "stdout",
     "output_type": "stream",
     "text": [
      "[[1 2 3 4 5 6 7]\n",
      " [8 9 1 2 3 4 5]]\n"
     ]
    },
    {
     "data": {
      "text/plain": [
       "array([2, 3, 4, 5, 6, 7])"
      ]
     },
     "execution_count": 19,
     "metadata": {},
     "output_type": "execute_result"
    }
   ],
   "source": [
    "print(a)\n",
    "\n",
    "a[0, 1:]"
   ]
  },
  {
   "cell_type": "code",
   "execution_count": 20,
   "id": "0569dd5f",
   "metadata": {},
   "outputs": [
    {
     "data": {
      "text/plain": [
       "array([2, 4, 6])"
      ]
     },
     "execution_count": 20,
     "metadata": {},
     "output_type": "execute_result"
    }
   ],
   "source": [
    "a[0 ,1::2]"
   ]
  },
  {
   "cell_type": "markdown",
   "id": "06448ab1",
   "metadata": {},
   "source": [
    "# Desfios\n",
    "\n",
    "Atividade : Array Numpy 1d, 2d, shape e fatiamento\n",
    "  \n",
    "### 1. Array 1D\n",
    "\n",
    " a) Crie um Array numpy chado `vetor` com números de  10 de 50 em 10\n",
    "\n",
    " b) Imprima o array\n",
    "\n",
    " c) Inprima o tamanho (shape) desse array\n",
    "\n",
    " d) Imprima apemas os 3 primeros elementos usando slicing\n",
    "\n",
    " e) Imprima os dois elementos usando slicing\n"
   ]
  },
  {
   "cell_type": "code",
   "execution_count": 21,
   "id": "cde04d4d",
   "metadata": {},
   "outputs": [
    {
     "name": "stdout",
     "output_type": "stream",
     "text": [
      "\n",
      "[10 20 30 40 50]\n",
      "\n",
      "O shape é (5,)\n",
      "\n",
      "Os dos tris é: [10 20 30]\n",
      "\n",
      "Os dois é: [40 50]\n",
      "\n"
     ]
    }
   ],
   "source": [
    "import numpy as np\n",
    "\n",
    "array = np.array([10, 20, 30, 40, 50])\n",
    "\n",
    "print('')\n",
    "print(array)\n",
    "print('')\n",
    "\n",
    "print('O shape é',array.shape)\n",
    "print('')\n",
    "\n",
    "print('Os dos tris é:',array[:3])\n",
    "print('')\n",
    "\n",
    "print('Os dois é:',array[3:])\n",
    "print('')"
   ]
  },
  {
   "cell_type": "markdown",
   "id": "15ac8a8f",
   "metadata": {},
   "source": [
    "# 2 Array 2D\n",
    "\n",
    "a) Crie um array chamado `matris` com duas linhas : a primera `[1, 2, 3]` e a segunda `[4, 5, 6]`\n",
    "\n",
    "b) Imprma o array\n",
    "\n",
    "c) Imprima o tamanho (shae) da matriz\n",
    "\n",
    "d) Imprima apenas a segunda linha da matriz\n",
    "\n",
    "e) Imprima apenas o elemento da primara linha e a terceira coluna"
   ]
  },
  {
   "cell_type": "code",
   "execution_count": 40,
   "id": "22fffa6e",
   "metadata": {},
   "outputs": [
    {
     "name": "stdout",
     "output_type": "stream",
     "text": [
      "[[1 2 3]\n",
      " [4 5 6]]\n",
      "\n",
      "(2, 3)\n",
      "\n",
      "[4 5 6]\n",
      "\n",
      "3\n",
      "\n"
     ]
    }
   ],
   "source": [
    "\n",
    "\n",
    "matris = np.array([[1, 2, 3],[4, 5, 6]])\n",
    "\n",
    "print(matris)\n",
    "print('')\n",
    "\n",
    "print(matris.shape)\n",
    "print()\n",
    "\n",
    "print(matris[1, :])\n",
    "print()\n",
    "\n",
    "print(matris[0, -1])\n",
    "print()\n",
    "\n",
    "\n",
    "\n"
   ]
  }
 ],
 "metadata": {
  "kernelspec": {
   "display_name": ".venv",
   "language": "python",
   "name": "python3"
  },
  "language_info": {
   "codemirror_mode": {
    "name": "ipython",
    "version": 3
   },
   "file_extension": ".py",
   "mimetype": "text/x-python",
   "name": "python",
   "nbconvert_exporter": "python",
   "pygments_lexer": "ipython3",
   "version": "3.13.2"
  }
 },
 "nbformat": 4,
 "nbformat_minor": 5
}
