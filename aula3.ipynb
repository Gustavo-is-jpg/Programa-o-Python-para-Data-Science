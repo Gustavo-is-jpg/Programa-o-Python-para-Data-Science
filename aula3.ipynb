{
 "cells": [
  {
   "cell_type": "markdown",
   "id": "6b3a0446-31f7-425c-8f15-44f3aa38c982",
   "metadata": {},
   "source": [
    "# Opeadores de comparação\n",
    "\n",
    "Faça um progama para a leítura de quattro notas. O progama deve calcula a média por aluno e apresentar:\n",
    "\n",
    "Mesagem de \"Aprovado\", se a média for maior ou igual a 7\n",
    "\n",
    "Mesagem de \"Reprovado\", se a média for meno do 7\n",
    "\n",
    "Mesagem de \"Aprovado com Nota Maximas\", se a média for maior ou igual a 10\n"
   ]
  },
  {
   "cell_type": "code",
   "execution_count": null,
   "id": "82b4b08b-d9f2-4244-be76-8b78c1d2aad9",
   "metadata": {},
   "outputs": [],
   "source": [
    "nota1 = float(input('Digite a nota do 1º Bimestre'))\n",
    "nota2 = float(input('Digite a nota do 2º Bimestre'))\n",
    "nota3 = float(input('Digite a nota do 3º Bimestre'))\n",
    "nota4 = float(input('Digite a nota do 4º Bimestre'))\n",
    "\n",
    "media = ( (nota1 + nota2 + nota3 + nota4) / 4)\n",
    "\n",
    "if (media == 10) :\n",
    "    print('Aprovado com Nota Maximas')\n",
    "\n",
    "elif (media >= 7 and media < 10):\n",
    "    print('Aprovado')\n",
    "\n",
    "else:\n",
    "    print('Reprovado')"
   ]
  },
  {
   "cell_type": "markdown",
   "id": "dd6d953d-1fb4-432b-80a8-eb1d5bf08aa5",
   "metadata": {},
   "source": [
    "# ESTRA"
   ]
  },
  {
   "cell_type": "code",
   "execution_count": null,
   "id": "7cef1a00-acc3-44e9-8cde-e88f675351f0",
   "metadata": {},
   "outputs": [
    {
     "name": "stdout",
     "output_type": "stream",
     "text": [
      "O seu IMC e 30.00\n",
      "Obesidade grau I (Moderada)\n"
     ]
    }
   ],
   "source": [
    "altura = float(input('Digite a sua Altura'))\n",
    "peso = float(input('Digite a sua peso'))\n",
    "\n",
    "al= altura / 100\n",
    "\n",
    "imc =  peso / (al ** 2)\n",
    "\n",
    " \n",
    "\n",
    "print(f'O seu IMC e {imc:.2f}')\n",
    "\n",
    "if imc <= 18.4:\n",
    "    print('A baixo do peso')\n",
    "\n",
    "elif imc >= 18.5 and imc <= 24.9:\n",
    "    print('Peso normal')\n",
    "\n",
    "elif imc  >= 25 and imc <= 29.9:\n",
    "    print('Excesso de peso ')\n",
    "\n",
    "elif imc  >= 30 and imc <= 34.9:\n",
    "    print('Obesidade grau I (Moderada)')\n",
    "\n",
    "elif imc  >= 34 and imc <= 39.9:\n",
    "    print('Obesidade grau II (Severa)')\n",
    "\n",
    "elif imc  >= 40:\n",
    "    print('Obesidade grau III (Mórbida)')"
   ]
  },
  {
   "cell_type": "markdown",
   "id": "ad3f6f39-9448-4c49-9ab8-d3a2796bcc1a",
   "metadata": {},
   "source": [
    "# Desafia 2\n",
    "\n",
    "Um programa que leia três numeros e mostre o maior e o menor dele\n",
    "\n",
    "\n"
   ]
  },
  {
   "cell_type": "code",
   "execution_count": null,
   "id": "094e922d-7f05-40b6-a842-13cdae13f82a",
   "metadata": {},
   "outputs": [],
   "source": [
    "element = 3\n",
    "lista_numeros = []\n",
    "\n",
    "for element in range(element):\n",
    "    lista_numeros.append(int(input(\"Digite um valor: \")))\n",
    "\n",
    "lm = max(lista_numeros)\n",
    "ln = min(lista_numeros)\n",
    "\n",
    "print(f'''\n",
    "O valor masimo é {lm}\n",
    "O valor minimo é {ln}\n",
    "''')\n",
    "    \n",
    "\n",
    "\n"
   ]
  },
  {
   "cell_type": "code",
   "execution_count": 4,
   "id": "c510a91d",
   "metadata": {},
   "outputs": [
    {
     "name": "stdout",
     "output_type": "stream",
     "text": [
      "\n",
      "[5, 75, 134]\n",
      "O valor maior é 134\n",
      "O valor menor é 5\n",
      "\n"
     ]
    }
   ],
   "source": [
    "element = 3\n",
    "lista_numeros = []\n",
    "\n",
    "for element in range(element):\n",
    "    lista_numeros.append(int(input(\"Digite um valor: \")))\n",
    "\n",
    "lista_numeros.sort()\n",
    "\n",
    "print(f'''\n",
    "{lista_numeros}\n",
    "O valor maior é {lista_numeros[-1]}\n",
    "O valor menor é {lista_numeros[0]}\n",
    "''')\n"
   ]
  }
 ],
 "metadata": {
  "kernelspec": {
   "display_name": "venv",
   "language": "python",
   "name": "python3"
  },
  "language_info": {
   "codemirror_mode": {
    "name": "ipython",
    "version": 3
   },
   "file_extension": ".py",
   "mimetype": "text/x-python",
   "name": "python",
   "nbconvert_exporter": "python",
   "pygments_lexer": "ipython3",
   "version": "3.13.2"
  }
 },
 "nbformat": 4,
 "nbformat_minor": 5
}
