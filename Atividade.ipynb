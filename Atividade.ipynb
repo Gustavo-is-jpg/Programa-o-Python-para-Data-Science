{
 "cells": [
  {
   "cell_type": "code",
   "execution_count": 1,
   "id": "942f35a5",
   "metadata": {},
   "outputs": [
    {
     "name": "stdout",
     "output_type": "stream",
     "text": [
      "Requirement already satisfied: pandas in c:\\users\\fic-ti especifico\\documents\\gustavo\\gustavo\\.venv\\lib\\site-packages (2.2.3)\n",
      "Requirement already satisfied: numpy>=1.26.0 in c:\\users\\fic-ti especifico\\documents\\gustavo\\gustavo\\.venv\\lib\\site-packages (from pandas) (2.2.4)\n",
      "Requirement already satisfied: python-dateutil>=2.8.2 in c:\\users\\fic-ti especifico\\documents\\gustavo\\gustavo\\.venv\\lib\\site-packages (from pandas) (2.9.0.post0)\n",
      "Requirement already satisfied: pytz>=2020.1 in c:\\users\\fic-ti especifico\\documents\\gustavo\\gustavo\\.venv\\lib\\site-packages (from pandas) (2025.2)\n",
      "Requirement already satisfied: tzdata>=2022.7 in c:\\users\\fic-ti especifico\\documents\\gustavo\\gustavo\\.venv\\lib\\site-packages (from pandas) (2025.2)\n",
      "Requirement already satisfied: six>=1.5 in c:\\users\\fic-ti especifico\\documents\\gustavo\\gustavo\\.venv\\lib\\site-packages (from python-dateutil>=2.8.2->pandas) (1.17.0)\n"
     ]
    }
   ],
   "source": [
    "! pip install pandas\n",
    "\n",
    "import pandas as pd\n",
    "\n",
    "populacao_ue = {\n",
    "    \"Austria\": 9006398,\n",
    "    \"Alemanha\": 83289318,\n",
    "    \"Bélgica\": 11589623,\n",
    "    \"Bulgária\": 7000039,\n",
    "    \"Chipre\": 1207361,\n",
    "    \"Croácia\": 4076246,\n",
    "    \"Dinamarca\": 5806015,\n",
    "    \"Eslováquia\": 5459642,\n",
    "    \"Eslovênia\": 2095861,\n",
    "    \"Espanha\": 47351567,\n",
    "    \"Estônia\": 1324820,\n",
    "    \"Finlândia\": 5523231,\n",
    "    \"França\": 66977107,\n",
    "    \"Grécia\": 10423056,\n",
    "    \"Hungria\": 9775564,\n",
    "    \"Irlanda\": 4882495,\n",
    "    \"Itália\": 60233948,\n",
    "    \"Letônia\": 1906743,\n",
    "    \"Lituânia\": 2793471,\n",
    "    \"Luxemburgo\": 613894,\n",
    "    \"Malta\": 493559,\n",
    "    \"Países Baixos\": 17134872,\n",
    "    \"Polônia\": 37974750,\n",
    "    \"Portugal\": 10286263,\n",
    "    \"República Tcheca\": 10693939,\n",
    "    \"Romênia\": 19405156,\n",
    "    \"Suécia\": 10106005\n",
    "}\n"
   ]
  },
  {
   "cell_type": "code",
   "execution_count": 2,
   "id": "b2f6225d",
   "metadata": {},
   "outputs": [
    {
     "name": "stdout",
     "output_type": "stream",
     "text": [
      "A população da França é:  66977107\n"
     ]
    }
   ],
   "source": [
    "pais = pd.Series(populacao_ue)\n",
    "\n",
    "print('A população da França é: ',pais.loc[\"França\"])"
   ]
  },
  {
   "cell_type": "code",
   "execution_count": 3,
   "id": "a2de1396",
   "metadata": {},
   "outputs": [
    {
     "name": "stdout",
     "output_type": "stream",
     "text": [
      "Os pais em ordem alfabetica:\n",
      "Alemanha            83289318\n",
      "Austria              9006398\n",
      "Bulgária             7000039\n",
      "Bélgica             11589623\n",
      "Chipre               1207361\n",
      "Croácia              4076246\n",
      "Dinamarca            5806015\n",
      "Eslováquia           5459642\n",
      "Eslovênia            2095861\n",
      "Espanha             47351567\n",
      "Estônia              1324820\n",
      "Finlândia            5523231\n",
      "França              66977107\n",
      "Grécia              10423056\n",
      "Hungria              9775564\n",
      "Irlanda              4882495\n",
      "Itália              60233948\n",
      "Letônia              1906743\n",
      "Lituânia             2793471\n",
      "Luxemburgo            613894\n",
      "Malta                 493559\n",
      "Países Baixos       17134872\n",
      "Polônia             37974750\n",
      "Portugal            10286263\n",
      "República Tcheca    10693939\n",
      "Romênia             19405156\n",
      "Suécia              10106005\n",
      "dtype: int64\n"
     ]
    }
   ],
   "source": [
    "print('Os pais em ordem alfabetica:')\n",
    "print(pais.sort_index())"
   ]
  },
  {
   "cell_type": "code",
   "execution_count": 4,
   "id": "a8f6c1f1",
   "metadata": {},
   "outputs": [
    {
     "name": "stdout",
     "output_type": "stream",
     "text": [
      "O número total de pais da UE: 27\n"
     ]
    }
   ],
   "source": [
    "o = 0\n",
    "\n",
    "for i in populacao_ue:\n",
    "    o +=1\n",
    "\n",
    "print('O número total de pais da UE:',o)"
   ]
  },
  {
   "cell_type": "code",
   "execution_count": 5,
   "id": "a42d8b8d",
   "metadata": {},
   "outputs": [
    {
     "name": "stdout",
     "output_type": "stream",
     "text": [
      "Média: 16571516.41\n"
     ]
    }
   ],
   "source": [
    "media = pais.mean()\n",
    "\n",
    "print(f'Média: {media:.2f}')"
   ]
  },
  {
   "cell_type": "code",
   "execution_count": 6,
   "id": "315b4e88",
   "metadata": {},
   "outputs": [
    {
     "name": "stdout",
     "output_type": "stream",
     "text": [
      "A Mediana é 9006398.0\n"
     ]
    }
   ],
   "source": [
    "print('A Mediana é',pais.median())\n"
   ]
  },
  {
   "cell_type": "code",
   "execution_count": 7,
   "id": "007da68f",
   "metadata": {},
   "outputs": [
    {
     "name": "stdout",
     "output_type": "stream",
     "text": [
      "O desvio paradão é  22305620.246587094\n"
     ]
    }
   ],
   "source": [
    "desevio = pais.std()\n",
    "print('O desvio paradão é ',desevio)"
   ]
  },
  {
   "cell_type": "code",
   "execution_count": 8,
   "id": "aa906ccd",
   "metadata": {},
   "outputs": [
    {
     "name": "stdout",
     "output_type": "stream",
     "text": [
      "O maior valor da população: 83289318\n"
     ]
    }
   ],
   "source": [
    "print('O maior valor da população:',pais.max())"
   ]
  },
  {
   "cell_type": "code",
   "execution_count": 9,
   "id": "194e42e1",
   "metadata": {},
   "outputs": [
    {
     "name": "stdout",
     "output_type": "stream",
     "text": [
      "A população total da UE 447430943\n"
     ]
    }
   ],
   "source": [
    "print('A população total da UE', pais.sum())"
   ]
  },
  {
   "cell_type": "code",
   "execution_count": 10,
   "id": "a2f6441c",
   "metadata": {},
   "outputs": [
    {
     "name": "stdout",
     "output_type": "stream",
     "text": [
      "\n",
      "Calcule e mostre a porcentagem que a população da Espanha representa em relação à população total da União Europeia:\n",
      "10.58%\n",
      "\n"
     ]
    }
   ],
   "source": [
    "espa_porsem = (pais.Espanha / pais.sum()) * 100\n",
    "\n",
    "\n",
    "print(f'''\n",
    "Calcule e mostre a porcentagem que a população da Espanha representa em relação à população total da União Europeia:\n",
    "{espa_porsem:.2f}%\n",
    "''')"
   ]
  },
  {
   "cell_type": "code",
   "execution_count": 11,
   "id": "5c0f9df9",
   "metadata": {},
   "outputs": [
    {
     "name": "stdout",
     "output_type": "stream",
     "text": [
      "\n",
      "Os 5 menos populosos:\n",
      "Austria      9006398\n",
      "Alemanha    83289318\n",
      "Bélgica     11589623\n",
      "Bulgária     7000039\n",
      "Chipre       1207361\n",
      "dtype: int64\n"
     ]
    }
   ],
   "source": [
    "ordd = pais.sort_index(ascending= False)\n",
    "hed = pais.head(5)\n",
    "\n",
    "print('')\n",
    "print('Os 5 menos populosos:')\n",
    "print(hed)"
   ]
  },
  {
   "cell_type": "code",
   "execution_count": 12,
   "id": "cc92a8b1",
   "metadata": {},
   "outputs": [
    {
     "name": "stdout",
     "output_type": "stream",
     "text": [
      "51447557.0\n"
     ]
    }
   ],
   "source": [
    "nova = (pais.França + pais.Alemanha + pais.Croácia) / 3\n",
    "print(nova)"
   ]
  }
 ],
 "metadata": {
  "kernelspec": {
   "display_name": ".venv",
   "language": "python",
   "name": "python3"
  },
  "language_info": {
   "codemirror_mode": {
    "name": "ipython",
    "version": 3
   },
   "file_extension": ".py",
   "mimetype": "text/x-python",
   "name": "python",
   "nbconvert_exporter": "python",
   "pygments_lexer": "ipython3",
   "version": "3.13.2"
  }
 },
 "nbformat": 4,
 "nbformat_minor": 5
}
