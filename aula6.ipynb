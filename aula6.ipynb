{
 "cells": [
  {
   "cell_type": "markdown",
   "id": "b05d0784",
   "metadata": {},
   "source": [
    "# Listas\n",
    "\n",
    "- Criação de Listas e Acesso aos Elementos\n",
    "- Alteração da Lista\n",
    "- Funções, Operadores e Metódos"
   ]
  },
  {
   "cell_type": "markdown",
   "id": "cd13b34b",
   "metadata": {},
   "source": [
    "Em Python, uma lista (list) é um a sequência ordernada de valores, e que são identificados por um indice.\n",
    "Estes valores, que compõe uma lista, são chamados de elementos ou itens.\n",
    "\n",
    "Listas são estruturas de dados muitos similares a string, que por sua vez são sequência de caracteres, apenas.\n",
    "\n",
    "A Diferença é que os elementos de uma lista podem ser de qualquer tipo, ou seja, podem ser homogêneos (todos os valores são do mesmo tipo) e heterogêneos(valores com tipos distintos).\n",
    "\n",
    "\n",
    "Diferentemene das strings, uma lista é tambem uma sequencia mutavel e dinâmica:\n",
    "\n",
    "- Alterar o Valor de um ou mais elementos\n",
    "- Os elementos podem ser adicionados, removidos, ou substituídos\n",
    "- A order dos elementos podem ser alterada.\n",
    "\n",
    "---"
   ]
  },
  {
   "cell_type": "markdown",
   "id": "9b8fe888",
   "metadata": {},
   "source": [
    "# Criação das listas e Acesso aos elementos\n",
    "\n",
    "## Criação de uma lista"
   ]
  },
  {
   "cell_type": "code",
   "execution_count": 37,
   "id": "4d72c817",
   "metadata": {},
   "outputs": [
    {
     "data": {
      "text/plain": [
       "list"
      ]
     },
     "execution_count": 37,
     "metadata": {},
     "output_type": "execute_result"
    }
   ],
   "source": [
    "lista = []\n",
    "lista \n",
    "type(lista)"
   ]
  },
  {
   "cell_type": "code",
   "execution_count": 38,
   "id": "265a71b2",
   "metadata": {},
   "outputs": [],
   "source": [
    "listadomercado = [\"ovo, farinha, leite, maça\"]"
   ]
  },
  {
   "cell_type": "code",
   "execution_count": 39,
   "id": "040487cf",
   "metadata": {},
   "outputs": [
    {
     "name": "stdout",
     "output_type": "stream",
     "text": [
      "['ovo, farinha, leite, maça']\n"
     ]
    }
   ],
   "source": [
    "print(listadomercado) # imprimindo a lista"
   ]
  },
  {
   "cell_type": "code",
   "execution_count": 40,
   "id": "1d75a91b",
   "metadata": {},
   "outputs": [],
   "source": [
    "listadomercado2 = ['ovos', 'farinha', 'leite', 'maças'] # criando outra lista"
   ]
  },
  {
   "cell_type": "code",
   "execution_count": 41,
   "id": "133824e8",
   "metadata": {},
   "outputs": [
    {
     "name": "stdout",
     "output_type": "stream",
     "text": [
      "['ovos', 'farinha', 'leite', 'maças']\n"
     ]
    }
   ],
   "source": [
    "print (listadomercado2)"
   ]
  },
  {
   "cell_type": "code",
   "execution_count": 42,
   "id": "8dd1ba7c",
   "metadata": {},
   "outputs": [],
   "source": [
    "lista3 = [12 , 100.0, 'Universidade']"
   ]
  },
  {
   "cell_type": "code",
   "execution_count": 43,
   "id": "f75e48fc",
   "metadata": {},
   "outputs": [],
   "source": [
    "item1 = lista3[0]\n",
    "item2 = lista3[1]\n",
    "item3 = lista3[2]"
   ]
  },
  {
   "cell_type": "code",
   "execution_count": 44,
   "id": "e14da5bf",
   "metadata": {},
   "outputs": [
    {
     "name": "stdout",
     "output_type": "stream",
     "text": [
      "12 100.0 Universidade\n",
      "<class 'int'>\n",
      "<class 'float'>\n",
      "<class 'str'>\n"
     ]
    }
   ],
   "source": [
    "print (item1, item2, item3)\n",
    "\n",
    "print(type(item1))\n",
    "print(type(item2))\n",
    "print(type(item3))"
   ]
  },
  {
   "cell_type": "markdown",
   "id": "b5e3db8f",
   "metadata": {},
   "source": [
    "# Atualizando um item da lista\n"
   ]
  },
  {
   "cell_type": "code",
   "execution_count": 45,
   "id": "742ec701",
   "metadata": {},
   "outputs": [
    {
     "data": {
      "text/plain": [
       "'leite'"
      ]
     },
     "execution_count": 45,
     "metadata": {},
     "output_type": "execute_result"
    }
   ],
   "source": [
    "listadomercado2[2]"
   ]
  },
  {
   "cell_type": "code",
   "execution_count": 46,
   "id": "c762c336",
   "metadata": {},
   "outputs": [],
   "source": [
    "listadomercado2[2] = \"chocolate\""
   ]
  },
  {
   "cell_type": "code",
   "execution_count": 47,
   "id": "1b43b70e",
   "metadata": {},
   "outputs": [
    {
     "data": {
      "text/plain": [
       "['ovos', 'farinha', 'chocolate', 'maças']"
      ]
     },
     "execution_count": 47,
     "metadata": {},
     "output_type": "execute_result"
    }
   ],
   "source": [
    "listadomercado2"
   ]
  },
  {
   "cell_type": "code",
   "execution_count": 48,
   "id": "2e5d0793",
   "metadata": {},
   "outputs": [
    {
     "data": {
      "text/plain": [
       "['ovos', 'farinha', 'chocolate', 'maças']"
      ]
     },
     "execution_count": 48,
     "metadata": {},
     "output_type": "execute_result"
    }
   ],
   "source": [
    "listadomercado2"
   ]
  },
  {
   "cell_type": "markdown",
   "id": "594ed563",
   "metadata": {},
   "source": [
    "# Funções, Operadores e Metódos\n",
    "\n",
    "## Listas de Listas (Linhas Aninhadas)"
   ]
  },
  {
   "cell_type": "code",
   "execution_count": 49,
   "id": "f23df6cf",
   "metadata": {},
   "outputs": [],
   "source": [
    "listas = [[1,2,3] , [10,15,14] , [10.1,8.7, 3]]"
   ]
  },
  {
   "cell_type": "code",
   "execution_count": 50,
   "id": "1491f939",
   "metadata": {},
   "outputs": [
    {
     "data": {
      "text/plain": [
       "[[1, 2, 3], [10, 15, 14], [10.1, 8.7, 3]]"
      ]
     },
     "execution_count": 50,
     "metadata": {},
     "output_type": "execute_result"
    }
   ],
   "source": [
    "listas"
   ]
  },
  {
   "cell_type": "code",
   "execution_count": 51,
   "id": "5be0939e",
   "metadata": {},
   "outputs": [],
   "source": [
    "a = listas[0]"
   ]
  },
  {
   "cell_type": "code",
   "execution_count": 52,
   "id": "8b8f2144",
   "metadata": {},
   "outputs": [
    {
     "data": {
      "text/plain": [
       "[1, 2, 3]"
      ]
     },
     "execution_count": 52,
     "metadata": {},
     "output_type": "execute_result"
    }
   ],
   "source": [
    "a"
   ]
  },
  {
   "cell_type": "code",
   "execution_count": 53,
   "id": "33276606",
   "metadata": {},
   "outputs": [],
   "source": [
    "b = a [0]"
   ]
  },
  {
   "cell_type": "code",
   "execution_count": 54,
   "id": "46bac5cb",
   "metadata": {},
   "outputs": [
    {
     "data": {
      "text/plain": [
       "1"
      ]
     },
     "execution_count": 54,
     "metadata": {},
     "output_type": "execute_result"
    }
   ],
   "source": [
    "b"
   ]
  },
  {
   "cell_type": "code",
   "execution_count": 55,
   "id": "915a57d7",
   "metadata": {},
   "outputs": [
    {
     "data": {
      "text/plain": [
       "[10.1, 8.7, 3]"
      ]
     },
     "execution_count": 55,
     "metadata": {},
     "output_type": "execute_result"
    }
   ],
   "source": [
    "c = listas [2]\n",
    "c"
   ]
  },
  {
   "cell_type": "code",
   "execution_count": 56,
   "id": "daf29928",
   "metadata": {},
   "outputs": [],
   "source": [
    "exemplo = ['um' , 'dois', None, 4]"
   ]
  },
  {
   "cell_type": "code",
   "execution_count": 57,
   "id": "ef27f7e1",
   "metadata": {},
   "outputs": [
    {
     "data": {
      "text/plain": [
       "['um', 'dois', None, 4]"
      ]
     },
     "execution_count": 57,
     "metadata": {},
     "output_type": "execute_result"
    }
   ],
   "source": [
    "exemplo"
   ]
  },
  {
   "cell_type": "markdown",
   "id": "8948913c",
   "metadata": {},
   "source": [
    "# Concatenando Listas"
   ]
  },
  {
   "cell_type": "code",
   "execution_count": 58,
   "id": "66d4dc30",
   "metadata": {},
   "outputs": [
    {
     "name": "stdout",
     "output_type": "stream",
     "text": [
      "[34, 32, 56]\n"
     ]
    }
   ],
   "source": [
    "lista_s1 = [34, 32, 56]\n",
    "\n",
    "print(lista_s1)"
   ]
  },
  {
   "cell_type": "code",
   "execution_count": 59,
   "id": "fc3b9244",
   "metadata": {},
   "outputs": [
    {
     "data": {
      "text/plain": [
       "[21, 90, 51]"
      ]
     },
     "execution_count": 59,
     "metadata": {},
     "output_type": "execute_result"
    }
   ],
   "source": [
    "lista_s2 =[21, 90, 51]\n",
    "\n",
    "lista_s2"
   ]
  },
  {
   "cell_type": "code",
   "execution_count": 60,
   "id": "65e32baa",
   "metadata": {},
   "outputs": [
    {
     "data": {
      "text/plain": [
       "[34, 32, 56, 21, 90, 51]"
      ]
     },
     "execution_count": 60,
     "metadata": {},
     "output_type": "execute_result"
    }
   ],
   "source": [
    "lista_tota = lista_s1 + lista_s2\n",
    "\n",
    "lista_tota"
   ]
  },
  {
   "cell_type": "markdown",
   "id": "08495c53",
   "metadata": {},
   "source": [
    "# Exercicio Operações basicas\n",
    "\n",
    "1. Crie uma lista chamado `numeros` contando os numeros 10, 20, 30, 40, 50\n",
    "\n",
    "2. Acessar e inprimir o primeito elemento e o ultimo elemento da usando indicas\n",
    "\n",
    "3. Substituir o valor do terciceiro elemento por 100 e imprimir a lista \n",
    "\n",
    "4. Adicionar o numuro 60, no final da lista, usando concateção\n",
    "\n",
    "5. Crie uma nova lista, chamada `novos_numeros` contando os valores 70, 80, 90 e concatenar com a lista numeros.\n",
    "\n",
    "6. Imprimir o tamanho total da lista resultante\n",
    "\n",
    "7. Criuma `list` chamada pares, que contenha apenas os números pares da lists `numeros`(use um loop para ver) suando o operador `%`"
   ]
  },
  {
   "cell_type": "code",
   "execution_count": 61,
   "id": "df0ad2bb",
   "metadata": {},
   "outputs": [
    {
     "name": "stdout",
     "output_type": "stream",
     "text": [
      "2\n",
      "True\n",
      "True\n",
      "['a', 5.44, True, None]\n"
     ]
    }
   ],
   "source": [
    "lista = [2, 'a', 5.44, True, None, 'casa']\n",
    "\n",
    "print(lista[0])\n",
    "print(lista[3])\n",
    "print(lista[-3])\n",
    "print(lista[1:5])"
   ]
  },
  {
   "cell_type": "code",
   "execution_count": 62,
   "id": "cf826b51",
   "metadata": {},
   "outputs": [
    {
     "name": "stdout",
     "output_type": "stream",
     "text": [
      "10\n",
      "51\n",
      "10\n",
      "20\n",
      "100\n",
      "40\n",
      "51\n",
      "60\n",
      "70\n",
      "80\n",
      "90\n",
      "O valor par da lista de numeros é: 10\n",
      "O valor par da lista de numeros é: 20\n",
      "O valor par da lista de numeros é: 100\n",
      "O valor par da lista de numeros é: 40\n",
      "O valor par da lista de numeros é: 60\n",
      "O valor par da lista de numeros é: 70\n",
      "O valor par da lista de numeros é: 80\n",
      "O valor par da lista de numeros é: 90\n"
     ]
    }
   ],
   "source": [
    "lista_numeros = [10, 20, 30, 40, 51]\n",
    "\n",
    "print(lista_numeros[0])\n",
    "print(lista_numeros[-1])\n",
    "\n",
    "lista_numeros[2] = 100\n",
    "\n",
    "novo_numeros_lista = [60]\n",
    "novos_numeros = [70, 80, 90]\n",
    "\n",
    "lista_numeros = lista_numeros + novo_numeros_lista + novos_numeros\n",
    "\n",
    "\n",
    "gantos_numeros = len(lista_numeros)\n",
    "\n",
    "for i in range(gantos_numeros):\n",
    "    print(lista_numeros[i])\n",
    "\n",
    "for i in range(gantos_numeros):\n",
    "    if (lista_numeros[i] % 2 == 0):\n",
    "        print('O valor par da lista de numeros é:',lista_numeros[i])\n",
    "\n",
    "\n",
    "\n"
   ]
  },
  {
   "cell_type": "code",
   "execution_count": 1,
   "id": "1afe21ac",
   "metadata": {},
   "outputs": [
    {
     "name": "stdout",
     "output_type": "stream",
     "text": [
      "O aluno com a menor idade é:16 \n",
      "O aluno com a maior idade é:38\n"
     ]
    }
   ],
   "source": [
    "aluno = [21, 31, 34, 29, 24, 25, 22, 17, 16, 17, 34, 38, 34]\n",
    "\n",
    "\n",
    "element = len(aluno)\n",
    "\n",
    "for j in range(element):\n",
    "    for k in range(element):\n",
    "        if aluno[j] < aluno[k]:\n",
    "            troca = aluno[j]\n",
    "            aluno[j] = aluno[k]\n",
    "            aluno[k] = troca\n",
    "\n",
    "print(f\"O aluno com a menor idade é:{aluno[0]} \\nO aluno com a maior idade é:{aluno[-1]}\")"
   ]
  },
  {
   "cell_type": "markdown",
   "id": "b2e71936",
   "metadata": {},
   "source": [
    "# Alteração de `list`\n"
   ]
  },
  {
   "cell_type": "code",
   "execution_count": 64,
   "id": "1ee84a8d",
   "metadata": {},
   "outputs": [
    {
     "name": "stdout",
     "output_type": "stream",
     "text": [
      "[2, 'a', 'd', 'c', 5.44, True]\n"
     ]
    }
   ],
   "source": [
    "lista = [2, 'a', 'd', 'c', 5.44, True]\n",
    "\n",
    "print(lista)"
   ]
  },
  {
   "cell_type": "code",
   "execution_count": 65,
   "id": "86e106f6",
   "metadata": {},
   "outputs": [
    {
     "name": "stdout",
     "output_type": "stream",
     "text": [
      "[2, 'a', 'd', 'c', 5.44, True, 999]\n",
      "[2, 'd', 'c', 5.44, True, 999]\n"
     ]
    }
   ],
   "source": [
    "lista.append(999)\n",
    "\n",
    "print(lista)\n",
    "\n",
    "lista.remove('a')\n",
    "\n",
    "print(lista)"
   ]
  },
  {
   "cell_type": "code",
   "execution_count": 66,
   "id": "65ad9505",
   "metadata": {},
   "outputs": [
    {
     "name": "stdout",
     "output_type": "stream",
     "text": [
      "4\n",
      "60\n",
      "30\n"
     ]
    }
   ],
   "source": [
    "l1 = [30, 10, 20]\n",
    "l2 = [2 ,'a', 5.44, True]\n",
    "\n",
    "# Funcoes\n",
    "\n",
    "print( len(l2) )\n",
    "print( sum(l1) )\n",
    "print( max(l1) )"
   ]
  },
  {
   "cell_type": "code",
   "execution_count": 74,
   "id": "9ae61c0a",
   "metadata": {},
   "outputs": [
    {
     "name": "stdout",
     "output_type": "stream",
     "text": [
      "[]\n",
      "[10, 10, 10, 10, 10, 10, 10, 10, 20, 20, 20, 20, 20, 20, 20, 20, 30, 30, 30, 30, 30, 30, 30, 30, 40, 40, 40, 40, 40, 40, 40, 10, 20, 30, 40]\n",
      "[10, 10, 10, 10, 10, 10, 10, 10, 10, 20, 20, 20, 20, 20, 20, 20, 20, 20, 30, 30, 30, 30, 30, 30, 30, 30, 30, 40, 40, 40, 40, 40, 40, 40, 40]\n",
      "['novo valor']\n",
      "[]\n",
      "[]\n",
      "27\n",
      "9\n"
     ]
    }
   ],
   "source": [
    "l2.reverse()\n",
    "print( l2 )\n",
    "\n",
    "l1.extend([10, 20, 30, 40])\n",
    "print( l1 )\n",
    "\n",
    "l1.sort()\n",
    "print(l1)\n",
    "\n",
    "l2.insert(2,'novo valor')\n",
    "print(l2)\n",
    "\n",
    "l2.pop()\n",
    "print(l2)\n",
    "\n",
    "l2.clear()\n",
    "print(l2)\n",
    "\n",
    "print(l1.index(40))\n",
    "\n",
    "print(l1.count(10))"
   ]
  }
 ],
 "metadata": {
  "kernelspec": {
   "display_name": ".venv",
   "language": "python",
   "name": "python3"
  },
  "language_info": {
   "codemirror_mode": {
    "name": "ipython",
    "version": 3
   },
   "file_extension": ".py",
   "mimetype": "text/x-python",
   "name": "python",
   "nbconvert_exporter": "python",
   "pygments_lexer": "ipython3",
   "version": "3.13.2"
  }
 },
 "nbformat": 4,
 "nbformat_minor": 5
}
