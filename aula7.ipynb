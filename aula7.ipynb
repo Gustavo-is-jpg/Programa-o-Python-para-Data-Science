{
 "cells": [
  {
   "cell_type": "markdown",
   "id": "1439c461",
   "metadata": {},
   "source": [
    "# por que Numpy\n",
    "\n",
    "O Munpy nos permite guardar dades e menipula-los no formato de `matrizes`. Ela podem ser infinimente dimensionais, por isso é importante que tenhamos a noção de como esses dades são guaardados para que possamos trabalhas com eles.\n",
    "\n",
    "## Qual a diferença de lista e matrizes Numpy\n",
    "\n",
    "Listas e Numpy tem semelhanças:\n",
    "\n",
    "- insertion\n",
    "- Deletion\n",
    "- Appanding\n",
    "- Concatenation\n",
    "\n",
    "Porém Numpy tem algumas vantangens computacionais que acelrram o processo, até por usar funçoes matriciais. Além disso, é mais eficinte em termos de memória e velosidade, pois armazena os dades em formatos mais compacto e otimizado para operações matemáticas."
   ]
  },
  {
   "cell_type": "code",
   "execution_count": 1,
   "id": "e3fdaf79",
   "metadata": {},
   "outputs": [
    {
     "name": "stdout",
     "output_type": "stream",
     "text": [
      "Package                 Version\n",
      "----------------------- -----------\n",
      "asttokens               3.0.0\n",
      "colorama                0.4.6\n",
      "comm                    0.2.2\n",
      "debugpy                 1.8.14\n",
      "decorator               5.2.1\n",
      "executing               2.2.0\n",
      "ipykernel               6.29.5\n",
      "ipython                 9.1.0\n",
      "ipython_pygments_lexers 1.1.1\n",
      "jedi                    0.19.2\n",
      "jupyter_client          8.6.3\n",
      "jupyter_core            5.7.2\n",
      "matplotlib-inline       0.1.7\n",
      "nest-asyncio            1.6.0\n",
      "numpy                   2.2.4\n",
      "packaging               24.2\n",
      "parso                   0.8.4\n",
      "pip                     25.0.1\n",
      "platformdirs            4.3.7\n",
      "prompt_toolkit          3.0.51\n",
      "psutil                  7.0.0\n",
      "pure_eval               0.2.3\n",
      "Pygments                2.19.1\n",
      "python-dateutil         2.9.0.post0\n",
      "pywin32                 310\n",
      "pyzmq                   26.4.0\n",
      "six                     1.17.0\n",
      "stack-data              0.6.3\n",
      "tornado                 6.4.2\n",
      "traitlets               5.14.3\n",
      "wcwidth                 0.2.13\n",
      "Note: you may need to restart the kernel to use updated packages.\n"
     ]
    }
   ],
   "source": [
    "pip list"
   ]
  },
  {
   "cell_type": "code",
   "execution_count": null,
   "id": "8cbb627b",
   "metadata": {},
   "outputs": [],
   "source": [
    "import numpy as np"
   ]
  },
  {
   "cell_type": "code",
   "execution_count": null,
   "id": "af24f464",
   "metadata": {},
   "outputs": [],
   "source": [
    "a = [1, 2, 5]\n",
    "b = [5, 4, 7]\n",
    "\n",
    "a * b"
   ]
  },
  {
   "cell_type": "markdown",
   "id": "986e21fd",
   "metadata": {},
   "source": [
    "# Mas com o Numpy essa simples operação é possiver"
   ]
  },
  {
   "cell_type": "code",
   "execution_count": null,
   "id": "cf6add54",
   "metadata": {},
   "outputs": [],
   "source": [
    "a = np.array([1, 3, 5])\n",
    "b = np.array([5, 4, 7])\n",
    "\n",
    "a * b"
   ]
  },
  {
   "cell_type": "markdown",
   "id": "203f2964",
   "metadata": {},
   "source": [
    "# Aplicação de Numpy\n",
    "\n",
    "- Machine Learning (Aprendizado de Maquina)\n",
    "- Backend das principais biblioteca de Py\n",
    "-"
   ]
  },
  {
   "cell_type": "markdown",
   "id": "00fbface",
   "metadata": {},
   "source": [
    "#  1. Crie um array com os números de 1 a 5, e inprima cada elmento usando um loop."
   ]
  },
  {
   "cell_type": "code",
   "execution_count": null,
   "id": "b89050f2",
   "metadata": {},
   "outputs": [],
   "source": [
    "import numpy as np\n",
    "\n",
    "a = np.array([1, 2 ,3 , 4, 5])\n",
    "b = np.array([1, 2 ,3 , 4, 5])\n",
    "\n",
    "elemento = len(a)\n",
    "\n",
    "for i in range(elemento):\n",
    "    print(a[i])"
   ]
  },
  {
   "cell_type": "markdown",
   "id": "4ca7ea9c",
   "metadata": {},
   "source": [
    "# 2. Crie um array numpy bidimensiolam (2x3) com os muneros 1 a 6 e imprima todos os elmento, linha por linha, usando duas loop."
   ]
  },
  {
   "cell_type": "code",
   "execution_count": null,
   "id": "e0adebd2",
   "metadata": {},
   "outputs": [
    {
     "name": "stdout",
     "output_type": "stream",
     "text": [
      "123\n",
      "456\n"
     ]
    }
   ],
   "source": [
    "import numpy as np\n",
    "\n",
    "a = np.array([[1, 2, 3],[4, 5, 6]])\n",
    "\n",
    "for i in range(2):\n",
    "    for j in range(3):\n",
    "        print(a[i,j], end='')\n",
    "    print('')\n"
   ]
  },
  {
   "cell_type": "markdown",
   "id": "b095e1dd",
   "metadata": {},
   "source": []
  }
 ],
 "metadata": {
  "kernelspec": {
   "display_name": ".venv",
   "language": "python",
   "name": "python3"
  },
  "language_info": {
   "codemirror_mode": {
    "name": "ipython",
    "version": 3
   },
   "file_extension": ".py",
   "mimetype": "text/x-python",
   "name": "python",
   "nbconvert_exporter": "python",
   "pygments_lexer": "ipython3",
   "version": "3.13.2"
  }
 },
 "nbformat": 4,
 "nbformat_minor": 5
}
