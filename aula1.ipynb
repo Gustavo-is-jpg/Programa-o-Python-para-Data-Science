{
 "cells": [
  {
   "cell_type": "markdown",
   "id": "7545fccb-78c8-4b6d-a54e-f73922880b64",
   "metadata": {},
   "source": [
    "# Python: Variaves tipo de Dados\n",
    "Caderno de aula do dia 3/4/25\n",
    "\n"
   ]
  },
  {
   "cell_type": "code",
   "execution_count": null,
   "id": "33e0017a-8237-46b9-9bae-512e83acb367",
   "metadata": {},
   "outputs": [],
   "source": [
    "print('EStou usando o Jupyter LAB')\n",
    "print('Olá Mundo')"
   ]
  },
  {
   "cell_type": "markdown",
   "id": "a8e189f1-91ce-40fe-8033-8d2a4463622e",
   "metadata": {},
   "source": [
    "### Desfio 1\n",
    "\n",
    "Escreva um Porgrama, que pergunte o nome completo e cumprimete pelo primero nome"
   ]
  },
  {
   "cell_type": "code",
   "execution_count": 1,
   "id": "0f592f5f-7fbc-4caa-949f-0093f75dde6a",
   "metadata": {},
   "outputs": [
    {
     "name": "stdout",
     "output_type": "stream",
     "text": [
      "Olá  \n",
      "seja bem-vindo ao SENAI\n"
     ]
    }
   ],
   "source": [
    "nome = input('Digite o seu prinero nome: ')\n",
    "sobrenome = input('Digite o seu sobrenome nome: ')\n",
    "\n",
    "print(f'Olá {nome} {sobrenome}\\nseja bem-vindo ao SENAI')"
   ]
  },
  {
   "cell_type": "markdown",
   "id": "b0966d94-c509-419b-b94a-e24728d7bf02",
   "metadata": {},
   "source": [
    "### Desfio 2\n",
    "\n",
    "Faça um programa, usando funcoes input, que recebe altura a o peso de uma pessoae imprima na tela o INC(Indice dse Massa Corporal)"
   ]
  },
  {
   "cell_type": "code",
   "execution_count": 2,
   "id": "bb74c65f-92c7-4b2e-afc1-1dd4f989cfc3",
   "metadata": {},
   "outputs": [
    {
     "name": "stdout",
     "output_type": "stream",
     "text": [
      "O seu IMC e 27.72\n"
     ]
    }
   ],
   "source": [
    "altura = float(input('Digite a sua Altura'))\n",
    "peso = float(input('Digite a sua peso'))\n",
    "\n",
    "al= altura / 100\n",
    "\n",
    "imc =  peso / (al ** 2)\n",
    "\n",
    "print('O seu IMC e {:.2f}'.format(imc))"
   ]
  }
 ],
 "metadata": {
  "kernelspec": {
   "display_name": "venv",
   "language": "python",
   "name": "python3"
  },
  "language_info": {
   "codemirror_mode": {
    "name": "ipython",
    "version": 3
   },
   "file_extension": ".py",
   "mimetype": "text/x-python",
   "name": "python",
   "nbconvert_exporter": "python",
   "pygments_lexer": "ipython3",
   "version": "3.13.2"
  }
 },
 "nbformat": 4,
 "nbformat_minor": 5
}
