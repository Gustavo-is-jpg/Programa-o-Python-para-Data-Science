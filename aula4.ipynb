{
 "cells": [
  {
   "cell_type": "markdown",
   "id": "56a73cf8",
   "metadata": {},
   "source": [
    "# Estrutura condicional\n",
    "\n",
    "<h2>vamos testra o if</h2>"
   ]
  },
  {
   "cell_type": "code",
   "execution_count": null,
   "id": "f999aa5a",
   "metadata": {},
   "outputs": [],
   "source": [
    "# Exemple de que a condição é verdaderi\n",
    "\n",
    "\n",
    "idade = int(input('Qual e a sua idade?'))\n",
    "\n",
    "if idade >= 18:\n",
    "    print('Idade suficiente para CNH')\n",
    "\n",
    "else:\n",
    "    print('Você não pode ter uma CMH')\n",
    "    print('')\n",
    "\n",
    "\n",
    "print('Fim do programa')\n",
    "\n"
   ]
  }
 ],
 "metadata": {
  "kernelspec": {
   "display_name": "venv",
   "language": "python",
   "name": "python3"
  },
  "language_info": {
   "codemirror_mode": {
    "name": "ipython",
    "version": 3
   },
   "file_extension": ".py",
   "mimetype": "text/x-python",
   "name": "python",
   "nbconvert_exporter": "python",
   "pygments_lexer": "ipython3",
   "version": "3.13.2"
  }
 },
 "nbformat": 4,
 "nbformat_minor": 5
}
