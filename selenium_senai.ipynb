{
 "cells": [
  {
   "cell_type": "code",
   "execution_count": 1,
   "id": "47d8f402",
   "metadata": {},
   "outputs": [
    {
     "name": "stdout",
     "output_type": "stream",
     "text": [
      "Requirement already satisfied: selenium in c:\\users\\fic-ti especifico\\documents\\gustavo\\gustavo\\.venv\\lib\\site-packages (4.32.0)\n",
      "Requirement already satisfied: webdriver-manager in c:\\users\\fic-ti especifico\\documents\\gustavo\\gustavo\\.venv\\lib\\site-packages (4.0.2)\n",
      "Requirement already satisfied: urllib3<3,>=1.26 in c:\\users\\fic-ti especifico\\documents\\gustavo\\gustavo\\.venv\\lib\\site-packages (from urllib3[socks]<3,>=1.26->selenium) (2.4.0)\n",
      "Requirement already satisfied: trio~=0.17 in c:\\users\\fic-ti especifico\\documents\\gustavo\\gustavo\\.venv\\lib\\site-packages (from selenium) (0.30.0)\n",
      "Requirement already satisfied: trio-websocket~=0.9 in c:\\users\\fic-ti especifico\\documents\\gustavo\\gustavo\\.venv\\lib\\site-packages (from selenium) (0.12.2)\n",
      "Requirement already satisfied: certifi>=2021.10.8 in c:\\users\\fic-ti especifico\\documents\\gustavo\\gustavo\\.venv\\lib\\site-packages (from selenium) (2025.4.26)\n",
      "Requirement already satisfied: typing_extensions~=4.9 in c:\\users\\fic-ti especifico\\documents\\gustavo\\gustavo\\.venv\\lib\\site-packages (from selenium) (4.13.2)\n",
      "Requirement already satisfied: websocket-client~=1.8 in c:\\users\\fic-ti especifico\\documents\\gustavo\\gustavo\\.venv\\lib\\site-packages (from selenium) (1.8.0)\n",
      "Requirement already satisfied: requests in c:\\users\\fic-ti especifico\\documents\\gustavo\\gustavo\\.venv\\lib\\site-packages (from webdriver-manager) (2.32.3)\n",
      "Requirement already satisfied: python-dotenv in c:\\users\\fic-ti especifico\\documents\\gustavo\\gustavo\\.venv\\lib\\site-packages (from webdriver-manager) (1.1.0)\n",
      "Requirement already satisfied: packaging in c:\\users\\fic-ti especifico\\documents\\gustavo\\gustavo\\.venv\\lib\\site-packages (from webdriver-manager) (24.2)\n",
      "Requirement already satisfied: attrs>=23.2.0 in c:\\users\\fic-ti especifico\\documents\\gustavo\\gustavo\\.venv\\lib\\site-packages (from trio~=0.17->selenium) (25.3.0)\n",
      "Requirement already satisfied: sortedcontainers in c:\\users\\fic-ti especifico\\documents\\gustavo\\gustavo\\.venv\\lib\\site-packages (from trio~=0.17->selenium) (2.4.0)\n",
      "Requirement already satisfied: idna in c:\\users\\fic-ti especifico\\documents\\gustavo\\gustavo\\.venv\\lib\\site-packages (from trio~=0.17->selenium) (3.10)\n",
      "Requirement already satisfied: outcome in c:\\users\\fic-ti especifico\\documents\\gustavo\\gustavo\\.venv\\lib\\site-packages (from trio~=0.17->selenium) (1.3.0.post0)\n",
      "Requirement already satisfied: sniffio>=1.3.0 in c:\\users\\fic-ti especifico\\documents\\gustavo\\gustavo\\.venv\\lib\\site-packages (from trio~=0.17->selenium) (1.3.1)\n",
      "Requirement already satisfied: cffi>=1.14 in c:\\users\\fic-ti especifico\\documents\\gustavo\\gustavo\\.venv\\lib\\site-packages (from trio~=0.17->selenium) (1.17.1)\n",
      "Requirement already satisfied: wsproto>=0.14 in c:\\users\\fic-ti especifico\\documents\\gustavo\\gustavo\\.venv\\lib\\site-packages (from trio-websocket~=0.9->selenium) (1.2.0)\n",
      "Requirement already satisfied: pysocks!=1.5.7,<2.0,>=1.5.6 in c:\\users\\fic-ti especifico\\documents\\gustavo\\gustavo\\.venv\\lib\\site-packages (from urllib3[socks]<3,>=1.26->selenium) (1.7.1)\n",
      "Requirement already satisfied: charset-normalizer<4,>=2 in c:\\users\\fic-ti especifico\\documents\\gustavo\\gustavo\\.venv\\lib\\site-packages (from requests->webdriver-manager) (3.4.2)\n",
      "Requirement already satisfied: pycparser in c:\\users\\fic-ti especifico\\documents\\gustavo\\gustavo\\.venv\\lib\\site-packages (from cffi>=1.14->trio~=0.17->selenium) (2.22)\n",
      "Requirement already satisfied: h11<1,>=0.9.0 in c:\\users\\fic-ti especifico\\documents\\gustavo\\gustavo\\.venv\\lib\\site-packages (from wsproto>=0.14->trio-websocket~=0.9->selenium) (0.16.0)\n"
     ]
    },
    {
     "name": "stderr",
     "output_type": "stream",
     "text": [
      "\n",
      "[notice] A new release of pip is available: 25.0.1 -> 25.1.1\n",
      "[notice] To update, run: python.exe -m pip install --upgrade pip\n"
     ]
    },
    {
     "name": "stdout",
     "output_type": "stream",
     "text": [
      "Requirement already satisfied: pandas in c:\\users\\fic-ti especifico\\documents\\gustavo\\gustavo\\.venv\\lib\\site-packages (2.2.3)\n",
      "Requirement already satisfied: numpy>=1.26.0 in c:\\users\\fic-ti especifico\\documents\\gustavo\\gustavo\\.venv\\lib\\site-packages (from pandas) (2.2.4)\n",
      "Requirement already satisfied: python-dateutil>=2.8.2 in c:\\users\\fic-ti especifico\\documents\\gustavo\\gustavo\\.venv\\lib\\site-packages (from pandas) (2.9.0.post0)\n",
      "Requirement already satisfied: pytz>=2020.1 in c:\\users\\fic-ti especifico\\documents\\gustavo\\gustavo\\.venv\\lib\\site-packages (from pandas) (2025.2)\n",
      "Requirement already satisfied: tzdata>=2022.7 in c:\\users\\fic-ti especifico\\documents\\gustavo\\gustavo\\.venv\\lib\\site-packages (from pandas) (2025.2)\n",
      "Requirement already satisfied: six>=1.5 in c:\\users\\fic-ti especifico\\documents\\gustavo\\gustavo\\.venv\\lib\\site-packages (from python-dateutil>=2.8.2->pandas) (1.17.0)\n"
     ]
    },
    {
     "name": "stderr",
     "output_type": "stream",
     "text": [
      "\n",
      "[notice] A new release of pip is available: 25.0.1 -> 25.1.1\n",
      "[notice] To update, run: python.exe -m pip install --upgrade pip\n"
     ]
    }
   ],
   "source": [
    "! pip install selenium webdriver-manager\n",
    "! pip install pandas\n"
   ]
  },
  {
   "cell_type": "code",
   "execution_count": 2,
   "id": "375e2b52",
   "metadata": {},
   "outputs": [],
   "source": [
    "import pandas as pd\n",
    "from selenium import webdriver\n",
    "from selenium.webdriver.chrome.service import Service\n",
    "from webdriver_manager.chrome import ChromeDriverManager\n",
    "from selenium.webdriver.common.by import By\n",
    "from selenium.webdriver.common.keys import Keys\n",
    "\n",
    "service = Service(ChromeDriverManager().install())\n"
   ]
  },
  {
   "cell_type": "code",
   "execution_count": null,
   "id": "77c40d9b",
   "metadata": {},
   "outputs": [
    {
     "ename": "ElementNotInteractableException",
     "evalue": "Message: element not interactable\n  (Session info: chrome=136.0.7103.92)\nStacktrace:\n\tGetHandleVerifier [0x00D2FC53+61635]\n\tGetHandleVerifier [0x00D2FC94+61700]\n\t(No symbol) [0x00B5044E]\n\t(No symbol) [0x00B99B4B]\n\t(No symbol) [0x00B8E5A5]\n\t(No symbol) [0x00BBD29C]\n\t(No symbol) [0x00B8E034]\n\t(No symbol) [0x00BBD514]\n\t(No symbol) [0x00BDE61B]\n\t(No symbol) [0x00BBD096]\n\t(No symbol) [0x00B8C840]\n\t(No symbol) [0x00B8D6A4]\n\tGetHandleVerifier [0x00FB4573+2701795]\n\tGetHandleVerifier [0x00FAFCF6+2683238]\n\tGetHandleVerifier [0x00FCAA3E+2793134]\n\tGetHandleVerifier [0x00D46915+155013]\n\tGetHandleVerifier [0x00D4CFFD+181357]\n\tGetHandleVerifier [0x00D374A8+92440]\n\tGetHandleVerifier [0x00D37650+92864]\n\tGetHandleVerifier [0x00D22040+5296]\n\tBaseThreadInitThunk [0x760C5D49+25]\n\tRtlInitializeExceptionChain [0x7758CF0B+107]\n\tRtlGetAppContainerNamedObjectPath [0x7758CE91+561]\n",
     "output_type": "error",
     "traceback": [
      "\u001b[31m---------------------------------------------------------------------------\u001b[39m",
      "\u001b[31mElementNotInteractableException\u001b[39m           Traceback (most recent call last)",
      "\u001b[36mCell\u001b[39m\u001b[36m \u001b[39m\u001b[32mIn[7]\u001b[39m\u001b[32m, line 11\u001b[39m\n\u001b[32m      7\u001b[39m pro = \u001b[33m'\u001b[39m\u001b[33m/html/body/footer/div[1]/div[2]/button\u001b[39m\u001b[33m'\u001b[39m\n\u001b[32m      9\u001b[39m navegador.find_element(By.XPATH, pro).click()\n\u001b[32m---> \u001b[39m\u001b[32m11\u001b[39m \u001b[43mnavegador\u001b[49m\u001b[43m.\u001b[49m\u001b[43mfind_element\u001b[49m\u001b[43m(\u001b[49m\u001b[43mBy\u001b[49m\u001b[43m.\u001b[49m\u001b[43mXPATH\u001b[49m\u001b[43m,\u001b[49m\u001b[43m \u001b[49m\u001b[43mbutan\u001b[49m\u001b[43m)\u001b[49m\u001b[43m.\u001b[49m\u001b[43mclick\u001b[49m\u001b[43m(\u001b[49m\u001b[43m)\u001b[49m\n",
      "\u001b[36mFile \u001b[39m\u001b[32mc:\\Users\\FIC-TI Especifico\\Documents\\Gustavo\\Gustavo\\.venv\\Lib\\site-packages\\selenium\\webdriver\\remote\\webelement.py:119\u001b[39m, in \u001b[36mWebElement.click\u001b[39m\u001b[34m(self)\u001b[39m\n\u001b[32m    111\u001b[39m \u001b[38;5;28;01mdef\u001b[39;00m\u001b[38;5;250m \u001b[39m\u001b[34mclick\u001b[39m(\u001b[38;5;28mself\u001b[39m) -> \u001b[38;5;28;01mNone\u001b[39;00m:\n\u001b[32m    112\u001b[39m \u001b[38;5;250m    \u001b[39m\u001b[33;03m\"\"\"Clicks the element.\u001b[39;00m\n\u001b[32m    113\u001b[39m \n\u001b[32m    114\u001b[39m \u001b[33;03m    Example:\u001b[39;00m\n\u001b[32m   (...)\u001b[39m\u001b[32m    117\u001b[39m \u001b[33;03m    >>> element.click()\u001b[39;00m\n\u001b[32m    118\u001b[39m \u001b[33;03m    \"\"\"\u001b[39;00m\n\u001b[32m--> \u001b[39m\u001b[32m119\u001b[39m     \u001b[38;5;28;43mself\u001b[39;49m\u001b[43m.\u001b[49m\u001b[43m_execute\u001b[49m\u001b[43m(\u001b[49m\u001b[43mCommand\u001b[49m\u001b[43m.\u001b[49m\u001b[43mCLICK_ELEMENT\u001b[49m\u001b[43m)\u001b[49m\n",
      "\u001b[36mFile \u001b[39m\u001b[32mc:\\Users\\FIC-TI Especifico\\Documents\\Gustavo\\Gustavo\\.venv\\Lib\\site-packages\\selenium\\webdriver\\remote\\webelement.py:572\u001b[39m, in \u001b[36mWebElement._execute\u001b[39m\u001b[34m(self, command, params)\u001b[39m\n\u001b[32m    570\u001b[39m     params = {}\n\u001b[32m    571\u001b[39m params[\u001b[33m\"\u001b[39m\u001b[33mid\u001b[39m\u001b[33m\"\u001b[39m] = \u001b[38;5;28mself\u001b[39m._id\n\u001b[32m--> \u001b[39m\u001b[32m572\u001b[39m \u001b[38;5;28;01mreturn\u001b[39;00m \u001b[38;5;28;43mself\u001b[39;49m\u001b[43m.\u001b[49m\u001b[43m_parent\u001b[49m\u001b[43m.\u001b[49m\u001b[43mexecute\u001b[49m\u001b[43m(\u001b[49m\u001b[43mcommand\u001b[49m\u001b[43m,\u001b[49m\u001b[43m \u001b[49m\u001b[43mparams\u001b[49m\u001b[43m)\u001b[49m\n",
      "\u001b[36mFile \u001b[39m\u001b[32mc:\\Users\\FIC-TI Especifico\\Documents\\Gustavo\\Gustavo\\.venv\\Lib\\site-packages\\selenium\\webdriver\\remote\\webdriver.py:448\u001b[39m, in \u001b[36mWebDriver.execute\u001b[39m\u001b[34m(self, driver_command, params)\u001b[39m\n\u001b[32m    446\u001b[39m response = \u001b[38;5;28mself\u001b[39m.command_executor.execute(driver_command, params)\n\u001b[32m    447\u001b[39m \u001b[38;5;28;01mif\u001b[39;00m response:\n\u001b[32m--> \u001b[39m\u001b[32m448\u001b[39m     \u001b[38;5;28;43mself\u001b[39;49m\u001b[43m.\u001b[49m\u001b[43merror_handler\u001b[49m\u001b[43m.\u001b[49m\u001b[43mcheck_response\u001b[49m\u001b[43m(\u001b[49m\u001b[43mresponse\u001b[49m\u001b[43m)\u001b[49m\n\u001b[32m    449\u001b[39m     response[\u001b[33m\"\u001b[39m\u001b[33mvalue\u001b[39m\u001b[33m\"\u001b[39m] = \u001b[38;5;28mself\u001b[39m._unwrap_value(response.get(\u001b[33m\"\u001b[39m\u001b[33mvalue\u001b[39m\u001b[33m\"\u001b[39m, \u001b[38;5;28;01mNone\u001b[39;00m))\n\u001b[32m    450\u001b[39m     \u001b[38;5;28;01mreturn\u001b[39;00m response\n",
      "\u001b[36mFile \u001b[39m\u001b[32mc:\\Users\\FIC-TI Especifico\\Documents\\Gustavo\\Gustavo\\.venv\\Lib\\site-packages\\selenium\\webdriver\\remote\\errorhandler.py:232\u001b[39m, in \u001b[36mErrorHandler.check_response\u001b[39m\u001b[34m(self, response)\u001b[39m\n\u001b[32m    230\u001b[39m         alert_text = value[\u001b[33m\"\u001b[39m\u001b[33malert\u001b[39m\u001b[33m\"\u001b[39m].get(\u001b[33m\"\u001b[39m\u001b[33mtext\u001b[39m\u001b[33m\"\u001b[39m)\n\u001b[32m    231\u001b[39m     \u001b[38;5;28;01mraise\u001b[39;00m exception_class(message, screen, stacktrace, alert_text)  \u001b[38;5;66;03m# type: ignore[call-arg]  # mypy is not smart enough here\u001b[39;00m\n\u001b[32m--> \u001b[39m\u001b[32m232\u001b[39m \u001b[38;5;28;01mraise\u001b[39;00m exception_class(message, screen, stacktrace)\n",
      "\u001b[31mElementNotInteractableException\u001b[39m: Message: element not interactable\n  (Session info: chrome=136.0.7103.92)\nStacktrace:\n\tGetHandleVerifier [0x00D2FC53+61635]\n\tGetHandleVerifier [0x00D2FC94+61700]\n\t(No symbol) [0x00B5044E]\n\t(No symbol) [0x00B99B4B]\n\t(No symbol) [0x00B8E5A5]\n\t(No symbol) [0x00BBD29C]\n\t(No symbol) [0x00B8E034]\n\t(No symbol) [0x00BBD514]\n\t(No symbol) [0x00BDE61B]\n\t(No symbol) [0x00BBD096]\n\t(No symbol) [0x00B8C840]\n\t(No symbol) [0x00B8D6A4]\n\tGetHandleVerifier [0x00FB4573+2701795]\n\tGetHandleVerifier [0x00FAFCF6+2683238]\n\tGetHandleVerifier [0x00FCAA3E+2793134]\n\tGetHandleVerifier [0x00D46915+155013]\n\tGetHandleVerifier [0x00D4CFFD+181357]\n\tGetHandleVerifier [0x00D374A8+92440]\n\tGetHandleVerifier [0x00D37650+92864]\n\tGetHandleVerifier [0x00D22040+5296]\n\tBaseThreadInitThunk [0x760C5D49+25]\n\tRtlInitializeExceptionChain [0x7758CF0B+107]\n\tRtlGetAppContainerNamedObjectPath [0x7758CE91+561]\n"
     ]
    }
   ],
   "source": [
    "navegador = webdriver.Chrome(service=service)\n",
    "\n",
    "\n",
    "navegador.get('https://www.sp.senai.br/cursos/cursos-livres/tecnologia-da-informacao-e-informatica?modalidade=1&cidadeint=mairinque')\n",
    "\n",
    "butan = '/html/body/main/form/div[3]/div/div[2]/div/div[3]/div[1]/div/div[2]/div/div/a'\n",
    "pro = '/html/body/footer/div[1]/div[2]/button'\n",
    "\n",
    "navegador.find_element(By.XPATH, pro).click()\n",
    "\n",
    "navegador.find_element(By.XPATH, butan).click()\n"
   ]
  }
 ],
 "metadata": {
  "kernelspec": {
   "display_name": ".venv",
   "language": "python",
   "name": "python3"
  },
  "language_info": {
   "codemirror_mode": {
    "name": "ipython",
    "version": 3
   },
   "file_extension": ".py",
   "mimetype": "text/x-python",
   "name": "python",
   "nbconvert_exporter": "python",
   "pygments_lexer": "ipython3",
   "version": "3.13.2"
  }
 },
 "nbformat": 4,
 "nbformat_minor": 5
}
