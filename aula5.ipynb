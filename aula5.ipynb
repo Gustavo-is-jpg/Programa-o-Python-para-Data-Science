{
 "cells": [
  {
   "cell_type": "markdown",
   "id": "85ed0523",
   "metadata": {},
   "source": [
    "# Flexo de controle em Python\n"
   ]
  },
  {
   "cell_type": "markdown",
   "id": "633395e0",
   "metadata": {},
   "source": [
    "## Aula 5 - Estrur de Repetiição\n",
    "\n",
    "- Estrutura de Repetição `while`\n",
    "- Estrutura de Repetição `for .. in` "
   ]
  },
  {
   "cell_type": "code",
   "execution_count": null,
   "id": "607633b8",
   "metadata": {},
   "outputs": [],
   "source": [
    "n = 0\n",
    "\n",
    "while n <= 15 and n == 0:\n",
    "    print(f'{n}, estou no loop e não sai dele.')\n",
    "\n",
    "print('Fim do Programa')"
   ]
  },
  {
   "cell_type": "code",
   "execution_count": null,
   "id": "d7fd3cd7",
   "metadata": {},
   "outputs": [],
   "source": [
    "n = 15 \n",
    "\n",
    "soma = 0\n",
    "\n",
    "contadar = 0\n",
    "while contadar <= n :\n",
    "    #print(f'Soma {soma}')\n",
    "    #print(f'Contador {contadar}')\n",
    "    soma = soma + contadar\n",
    "    contadar += 1\n",
    "    #print(f'Soma depois {soma}')\n",
    "    #print(f'Contador {contadar}')\n",
    "    #print('')\n",
    "\n",
    "print(f'A soma primeiros {n} inteiros é {soma}')"
   ]
  },
  {
   "cell_type": "code",
   "execution_count": null,
   "id": "a935f1cb",
   "metadata": {},
   "outputs": [],
   "source": [
    "n = 15 \n",
    "soma = 0\n",
    "\n",
    "while n >= 0 :\n",
    "    soma += n\n",
    "    n -= 1\n",
    "\n",
    "print(f'A soam dos primeriros inteiros é {soma}')"
   ]
  },
  {
   "cell_type": "markdown",
   "id": "59e8d2aa",
   "metadata": {},
   "source": [
    "# Estrutura de repetição `for ... in`"
   ]
  },
  {
   "cell_type": "code",
   "execution_count": null,
   "id": "a786f79e",
   "metadata": {},
   "outputs": [],
   "source": [
    "escola = 'SENAI'\n",
    "for i in escola:\n",
    "    print(i)"
   ]
  },
  {
   "cell_type": "code",
   "execution_count": null,
   "id": "a2ba78c2",
   "metadata": {},
   "outputs": [],
   "source": [
    "noméros = '012345678910'\n",
    "for i in noméros:\n",
    "    print(i)"
   ]
  },
  {
   "cell_type": "code",
   "execution_count": null,
   "id": "42df35b5",
   "metadata": {},
   "outputs": [],
   "source": [
    "range(6)\n",
    "\n",
    "for i in range(6):\n",
    "    print(i)"
   ]
  },
  {
   "cell_type": "code",
   "execution_count": null,
   "id": "161a079f",
   "metadata": {},
   "outputs": [],
   "source": [
    "p = 'marirque'\n",
    "contador_A = 0\n",
    "contador_R = 0\n",
    "\n",
    "for letra in p :\n",
    "    if letra == 'a':\n",
    "        contador_A += 1\n",
    "\n",
    "    elif letra == 'r':\n",
    "        contador_R += 1\n",
    "\n",
    "print(f'Letras A {contador_A}')\n",
    "print(f'Letras R {contador_R}')"
   ]
  },
  {
   "cell_type": "markdown",
   "id": "f5d6c869",
   "metadata": {},
   "source": [
    "# Fibonacci\n",
    "\n",
    "<a>O Fibonacci é formada pof uma sequensia 1,1,2,3,5,8,13,21,24,55..\n",
    "\n",
    "Faça um progama capaz de gerar uma serie até  o n ésima termo (onde o valor n, deve ser inserido pelo usuário)</a>"
   ]
  },
  {
   "cell_type": "code",
   "execution_count": null,
   "id": "e30838ff",
   "metadata": {},
   "outputs": [],
   "source": [
    "n = int(input('Digite:'))\n",
    "\n",
    "soma = 0\n",
    "\n",
    "contal = 1\n",
    "\n",
    "for i in range(0,n):\n",
    "    print(contal)\n",
    "    \n",
    "    contal += soma\n",
    "    print('soma', soma)\n",
    "    soma = soma + contal\n",
    "    print('contal', contal)"
   ]
  },
  {
   "cell_type": "code",
   "execution_count": null,
   "id": "c0129ebf",
   "metadata": {},
   "outputs": [],
   "source": [
    "n = int(input('Digite:'))\n",
    "\n",
    "soma = 0\n",
    "\n",
    "contal = 1\n",
    "\n",
    "for i in range(0,n):\n",
    "\n",
    "\n",
    "\n",
    "    res = contal + soma\n",
    "\n",
    "    print(res)"
   ]
  }
 ],
 "metadata": {
  "kernelspec": {
   "display_name": "venv",
   "language": "python",
   "name": "python3"
  },
  "language_info": {
   "codemirror_mode": {
    "name": "ipython",
    "version": 3
   },
   "file_extension": ".py",
   "mimetype": "text/x-python",
   "name": "python",
   "nbconvert_exporter": "python",
   "pygments_lexer": "ipython3",
   "version": "3.13.2"
  }
 },
 "nbformat": 4,
 "nbformat_minor": 5
}
