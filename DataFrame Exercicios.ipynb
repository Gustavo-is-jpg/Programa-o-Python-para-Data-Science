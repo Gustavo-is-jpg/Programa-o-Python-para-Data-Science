{
 "cells": [
  {
   "cell_type": "markdown",
   "id": "37b0d57c",
   "metadata": {},
   "source": [
    "# Exercícios Básicos de Pandas: DataFrames"
   ]
  },
  {
   "cell_type": "markdown",
   "id": "d9c9a0a6",
   "metadata": {},
   "source": [
    "## Preparação\n",
    "\n",
    "Execute a célula abaixo para importar a biblioteca Pandas. Para os exercícios envolvendo Excel (`.xlsx`), você precisará ter a biblioteca `openpyxl` instalada (`pip install openpyxl`)."
   ]
  },
  {
   "cell_type": "code",
   "execution_count": 1,
   "id": "1f3177ef",
   "metadata": {},
   "outputs": [
    {
     "name": "stdout",
     "output_type": "stream",
     "text": [
      "Pandas importado com sucesso. Versão: 2.2.3\n"
     ]
    }
   ],
   "source": [
    "import pandas as pd\n",
    "\n",
    "# Certifique-se de ter pandas instalado: !pip install pandas\n",
    "# Para exercícios de Excel, instale: !pip install openpyxl\n",
    "\n",
    "print(f\"Pandas importado com sucesso. Versão: {pd.__version__}\")"
   ]
  },
  {
   "cell_type": "code",
   "execution_count": 2,
   "id": "5ec11e4e",
   "metadata": {},
   "outputs": [
    {
     "name": "stdout",
     "output_type": "stream",
     "text": [
      "Requirement already satisfied: pandas in c:\\users\\fic-ti especifico\\documents\\gustavo\\gustavo\\.venv\\lib\\site-packages (2.2.3)\n",
      "Requirement already satisfied: numpy>=1.26.0 in c:\\users\\fic-ti especifico\\documents\\gustavo\\gustavo\\.venv\\lib\\site-packages (from pandas) (2.2.4)\n",
      "Requirement already satisfied: python-dateutil>=2.8.2 in c:\\users\\fic-ti especifico\\documents\\gustavo\\gustavo\\.venv\\lib\\site-packages (from pandas) (2.9.0.post0)\n",
      "Requirement already satisfied: pytz>=2020.1 in c:\\users\\fic-ti especifico\\documents\\gustavo\\gustavo\\.venv\\lib\\site-packages (from pandas) (2025.2)\n",
      "Requirement already satisfied: tzdata>=2022.7 in c:\\users\\fic-ti especifico\\documents\\gustavo\\gustavo\\.venv\\lib\\site-packages (from pandas) (2025.2)\n",
      "Requirement already satisfied: six>=1.5 in c:\\users\\fic-ti especifico\\documents\\gustavo\\gustavo\\.venv\\lib\\site-packages (from python-dateutil>=2.8.2->pandas) (1.17.0)\n"
     ]
    },
    {
     "name": "stderr",
     "output_type": "stream",
     "text": [
      "\n",
      "[notice] A new release of pip is available: 25.0.1 -> 25.1.1\n",
      "[notice] To update, run: python.exe -m pip install --upgrade pip\n"
     ]
    },
    {
     "name": "stdout",
     "output_type": "stream",
     "text": [
      "Requirement already satisfied: openpyxl in c:\\users\\fic-ti especifico\\documents\\gustavo\\gustavo\\.venv\\lib\\site-packages (3.1.5)\n",
      "Requirement already satisfied: et-xmlfile in c:\\users\\fic-ti especifico\\documents\\gustavo\\gustavo\\.venv\\lib\\site-packages (from openpyxl) (2.0.0)\n"
     ]
    },
    {
     "name": "stderr",
     "output_type": "stream",
     "text": [
      "\n",
      "[notice] A new release of pip is available: 25.0.1 -> 25.1.1\n",
      "[notice] To update, run: python.exe -m pip install --upgrade pip\n"
     ]
    }
   ],
   "source": [
    "! pip install pandas\n",
    "! pip install openpyxl\n",
    "\n",
    "import pandas as pd"
   ]
  },
  {
   "cell_type": "markdown",
   "id": "76caf174",
   "metadata": {},
   "source": [
    "---"
   ]
  },
  {
   "cell_type": "markdown",
   "id": "6e606e7f",
   "metadata": {},
   "source": [
    "## Exercício 1: Criando um DataFrame Vazio\n",
    "\n",
    "*   **Tarefa:** Crie um DataFrame vazio chamado `df_vazio` e, em seguida, imprima o seu tipo para confirmar que é um DataFrame."
   ]
  },
  {
   "cell_type": "code",
   "execution_count": 3,
   "id": "9b1e20cd",
   "metadata": {},
   "outputs": [
    {
     "data": {
      "text/plain": [
       "pandas.core.frame.DataFrame"
      ]
     },
     "metadata": {},
     "output_type": "display_data"
    }
   ],
   "source": [
    "df_vaizo = {\n",
    "}\n",
    "df_vaizo = pd.DataFrame(df_vaizo)\n",
    "display(type(df_vaizo))"
   ]
  },
  {
   "cell_type": "markdown",
   "id": "8b37914d",
   "metadata": {},
   "source": [
    "---"
   ]
  },
  {
   "cell_type": "markdown",
   "id": "ecd6b841",
   "metadata": {},
   "source": [
    "## Exercício 2: Criando um DataFrame a partir de um Dicionário\n",
    "\n",
    "*   **Tarefa:** Crie um dicionário Python chamado `dados_alunos` com as seguintes informações:\n",
    "    *   `Nome`: ['Ana', 'Bruno', 'Carla']\n",
    "    *   `Idade`: [20, 22, 19]\n",
    "    *   `Curso`: ['Engenharia', 'Direito', 'Medicina']\n",
    "    Em seguida, crie um DataFrame chamado `df_alunos` a partir deste dicionário e exiba-o."
   ]
  },
  {
   "cell_type": "code",
   "execution_count": 4,
   "id": "8b8e7012",
   "metadata": {},
   "outputs": [
    {
     "data": {
      "text/html": [
       "<div>\n",
       "<style scoped>\n",
       "    .dataframe tbody tr th:only-of-type {\n",
       "        vertical-align: middle;\n",
       "    }\n",
       "\n",
       "    .dataframe tbody tr th {\n",
       "        vertical-align: top;\n",
       "    }\n",
       "\n",
       "    .dataframe thead th {\n",
       "        text-align: right;\n",
       "    }\n",
       "</style>\n",
       "<table border=\"1\" class=\"dataframe\">\n",
       "  <thead>\n",
       "    <tr style=\"text-align: right;\">\n",
       "      <th></th>\n",
       "      <th>Nome</th>\n",
       "      <th>Idade</th>\n",
       "      <th>Curso</th>\n",
       "    </tr>\n",
       "  </thead>\n",
       "  <tbody>\n",
       "    <tr>\n",
       "      <th>0</th>\n",
       "      <td>Ana</td>\n",
       "      <td>20</td>\n",
       "      <td>Engenharia</td>\n",
       "    </tr>\n",
       "    <tr>\n",
       "      <th>1</th>\n",
       "      <td>Bruno</td>\n",
       "      <td>22</td>\n",
       "      <td>Direito</td>\n",
       "    </tr>\n",
       "    <tr>\n",
       "      <th>2</th>\n",
       "      <td>Carla</td>\n",
       "      <td>19</td>\n",
       "      <td>Medicina</td>\n",
       "    </tr>\n",
       "  </tbody>\n",
       "</table>\n",
       "</div>"
      ],
      "text/plain": [
       "    Nome  Idade       Curso\n",
       "0    Ana     20  Engenharia\n",
       "1  Bruno     22     Direito\n",
       "2  Carla     19    Medicina"
      ]
     },
     "metadata": {},
     "output_type": "display_data"
    }
   ],
   "source": [
    "dados_aluno = {\n",
    "    'Nome': ['Ana', 'Bruno', 'Carla'],\n",
    "    'Idade' : [20, 22, 19],\n",
    "    'Curso' : ['Engenharia', 'Direito', 'Medicina']\n",
    "}\n",
    "\n",
    "df_aluno = pd.DataFrame(dados_aluno)\n",
    "display(df_aluno)"
   ]
  },
  {
   "cell_type": "markdown",
   "id": "23086baa",
   "metadata": {},
   "source": [
    "---"
   ]
  },
  {
   "cell_type": "markdown",
   "id": "22f35a3e",
   "metadata": {},
   "source": [
    "## Exercício 3 (Fácil): Salvando um DataFrame em CSV\n",
    "\n",
    "*   **Tarefa:** Usando o DataFrame `df_alunos` criado no Exercício 2, salve-o em um arquivo CSV chamado `lista_alunos.csv`. Certifique-se de que o índice do DataFrame *não* seja incluído no arquivo CSV."
   ]
  },
  {
   "cell_type": "code",
   "execution_count": 5,
   "id": "27dbdbdc",
   "metadata": {},
   "outputs": [],
   "source": [
    "pd.DataFrame.to_csv(df_aluno, 'lista_alunos.csv', index= False)"
   ]
  },
  {
   "cell_type": "markdown",
   "id": "29df3c4c",
   "metadata": {},
   "source": [
    "---"
   ]
  },
  {
   "cell_type": "markdown",
   "id": "00e8a502",
   "metadata": {},
   "source": [
    "## Exercício 4 (Fácil): Lendo um DataFrame de um CSV\n",
    "\n",
    "*   **Tarefa:** Leia o arquivo `lista_alunos.csv` que você acabou de criar no Exercício 3 para um novo DataFrame chamado `df_alunos_lido` e exiba-o."
   ]
  },
  {
   "cell_type": "code",
   "execution_count": 6,
   "id": "58b47ef8",
   "metadata": {},
   "outputs": [
    {
     "data": {
      "text/html": [
       "<div>\n",
       "<style scoped>\n",
       "    .dataframe tbody tr th:only-of-type {\n",
       "        vertical-align: middle;\n",
       "    }\n",
       "\n",
       "    .dataframe tbody tr th {\n",
       "        vertical-align: top;\n",
       "    }\n",
       "\n",
       "    .dataframe thead th {\n",
       "        text-align: right;\n",
       "    }\n",
       "</style>\n",
       "<table border=\"1\" class=\"dataframe\">\n",
       "  <thead>\n",
       "    <tr style=\"text-align: right;\">\n",
       "      <th></th>\n",
       "      <th>Nome</th>\n",
       "      <th>Idade</th>\n",
       "      <th>Curso</th>\n",
       "    </tr>\n",
       "  </thead>\n",
       "  <tbody>\n",
       "    <tr>\n",
       "      <th>0</th>\n",
       "      <td>Ana</td>\n",
       "      <td>20</td>\n",
       "      <td>Engenharia</td>\n",
       "    </tr>\n",
       "    <tr>\n",
       "      <th>1</th>\n",
       "      <td>Bruno</td>\n",
       "      <td>22</td>\n",
       "      <td>Direito</td>\n",
       "    </tr>\n",
       "    <tr>\n",
       "      <th>2</th>\n",
       "      <td>Carla</td>\n",
       "      <td>19</td>\n",
       "      <td>Medicina</td>\n",
       "    </tr>\n",
       "  </tbody>\n",
       "</table>\n",
       "</div>"
      ],
      "text/plain": [
       "    Nome  Idade       Curso\n",
       "0    Ana     20  Engenharia\n",
       "1  Bruno     22     Direito\n",
       "2  Carla     19    Medicina"
      ]
     },
     "metadata": {},
     "output_type": "display_data"
    }
   ],
   "source": [
    "df_alunos_lido = pd.read_csv('lista_alunos.csv')\n",
    "\n",
    "display(df_alunos_lido)"
   ]
  },
  {
   "cell_type": "markdown",
   "id": "574e686d",
   "metadata": {},
   "source": [
    "---"
   ]
  },
  {
   "cell_type": "markdown",
   "id": "f2b73403",
   "metadata": {},
   "source": [
    "## Exercício 5 (Médio): Salvando um DataFrame em Excel\n",
    "\n",
    "*   **Tarefa:** Use o DataFrame `df_alunos` (do Exercício 2) e salve-o em um arquivo Excel chamado `lista_alunos.xlsx`. Novamente, não inclua o índice no arquivo.\n",
    "*   **Nota:** Requer a biblioteca `openpyxl` instalada (`pip install openpyxl`)."
   ]
  },
  {
   "cell_type": "code",
   "execution_count": 7,
   "id": "63fca101",
   "metadata": {},
   "outputs": [],
   "source": [
    "df_aluno.to_excel('lista_alunos.xlsx', index= False)"
   ]
  },
  {
   "cell_type": "markdown",
   "id": "3676bc01",
   "metadata": {},
   "source": [
    "---"
   ]
  },
  {
   "cell_type": "markdown",
   "id": "56fcccc3",
   "metadata": {},
   "source": [
    "## Exercício 6 (Médio): Lendo um DataFrame de um Excel\n",
    "\n",
    "*   **Tarefa:** Leia o arquivo `lista_alunos.xlsx` criado no Exercício 5 para um novo DataFrame chamado `df_alunos_excel` e exiba-o.\n",
    "*   **Nota:** Requer a biblioteca `openpyxl` instalada."
   ]
  },
  {
   "cell_type": "code",
   "execution_count": 8,
   "id": "c9d8d19e",
   "metadata": {},
   "outputs": [
    {
     "data": {
      "text/html": [
       "<div>\n",
       "<style scoped>\n",
       "    .dataframe tbody tr th:only-of-type {\n",
       "        vertical-align: middle;\n",
       "    }\n",
       "\n",
       "    .dataframe tbody tr th {\n",
       "        vertical-align: top;\n",
       "    }\n",
       "\n",
       "    .dataframe thead th {\n",
       "        text-align: right;\n",
       "    }\n",
       "</style>\n",
       "<table border=\"1\" class=\"dataframe\">\n",
       "  <thead>\n",
       "    <tr style=\"text-align: right;\">\n",
       "      <th></th>\n",
       "      <th>Nome</th>\n",
       "      <th>Idade</th>\n",
       "      <th>Curso</th>\n",
       "    </tr>\n",
       "  </thead>\n",
       "  <tbody>\n",
       "    <tr>\n",
       "      <th>0</th>\n",
       "      <td>Ana</td>\n",
       "      <td>20</td>\n",
       "      <td>Engenharia</td>\n",
       "    </tr>\n",
       "    <tr>\n",
       "      <th>1</th>\n",
       "      <td>Bruno</td>\n",
       "      <td>22</td>\n",
       "      <td>Direito</td>\n",
       "    </tr>\n",
       "    <tr>\n",
       "      <th>2</th>\n",
       "      <td>Carla</td>\n",
       "      <td>19</td>\n",
       "      <td>Medicina</td>\n",
       "    </tr>\n",
       "  </tbody>\n",
       "</table>\n",
       "</div>"
      ],
      "text/plain": [
       "    Nome  Idade       Curso\n",
       "0    Ana     20  Engenharia\n",
       "1  Bruno     22     Direito\n",
       "2  Carla     19    Medicina"
      ]
     },
     "metadata": {},
     "output_type": "display_data"
    }
   ],
   "source": [
    "df_alunos_excel = pd.read_excel('lista_alunos.xlsx')\n",
    "\n",
    "display(df_alunos_excel)"
   ]
  },
  {
   "cell_type": "markdown",
   "id": "328e8dae",
   "metadata": {},
   "source": [
    "---"
   ]
  },
  {
   "cell_type": "markdown",
   "id": "fb9de52c",
   "metadata": {},
   "source": [
    "## Exercício 7 (Médio): Inspeção Básica do DataFrame\n",
    "\n",
    "*   **Tarefa:** Usando o DataFrame `df_alunos_excel` (lido no Exercício 6), realize as seguintes inspeções:\n",
    "    1.  Exiba as primeiras 2 linhas do DataFrame.\n",
    "    2.  Exiba os nomes de todas as colunas.\n",
    "    3.  Mostre quantas linhas e colunas o DataFrame possui."
   ]
  },
  {
   "cell_type": "code",
   "execution_count": 9,
   "id": "5bdea05d",
   "metadata": {},
   "outputs": [
    {
     "data": {
      "text/html": [
       "<div>\n",
       "<style scoped>\n",
       "    .dataframe tbody tr th:only-of-type {\n",
       "        vertical-align: middle;\n",
       "    }\n",
       "\n",
       "    .dataframe tbody tr th {\n",
       "        vertical-align: top;\n",
       "    }\n",
       "\n",
       "    .dataframe thead th {\n",
       "        text-align: right;\n",
       "    }\n",
       "</style>\n",
       "<table border=\"1\" class=\"dataframe\">\n",
       "  <thead>\n",
       "    <tr style=\"text-align: right;\">\n",
       "      <th></th>\n",
       "      <th>Nome</th>\n",
       "      <th>Idade</th>\n",
       "      <th>Curso</th>\n",
       "    </tr>\n",
       "  </thead>\n",
       "  <tbody>\n",
       "    <tr>\n",
       "      <th>0</th>\n",
       "      <td>Ana</td>\n",
       "      <td>20</td>\n",
       "      <td>Engenharia</td>\n",
       "    </tr>\n",
       "    <tr>\n",
       "      <th>1</th>\n",
       "      <td>Bruno</td>\n",
       "      <td>22</td>\n",
       "      <td>Direito</td>\n",
       "    </tr>\n",
       "  </tbody>\n",
       "</table>\n",
       "</div>"
      ],
      "text/plain": [
       "    Nome  Idade       Curso\n",
       "0    Ana     20  Engenharia\n",
       "1  Bruno     22     Direito"
      ]
     },
     "metadata": {},
     "output_type": "display_data"
    },
    {
     "name": "stdout",
     "output_type": "stream",
     "text": [
      "------------------------------\n"
     ]
    },
    {
     "data": {
      "text/plain": [
       "Index(['Nome', 'Idade', 'Curso'], dtype='object')"
      ]
     },
     "metadata": {},
     "output_type": "display_data"
    },
    {
     "name": "stdout",
     "output_type": "stream",
     "text": [
      "------------------------------\n"
     ]
    },
    {
     "data": {
      "text/plain": [
       "3"
      ]
     },
     "metadata": {},
     "output_type": "display_data"
    }
   ],
   "source": [
    "display(df_alunos_excel[0:2])\n",
    "print('-'* 30)\n",
    "\n",
    "display(df_alunos_excel.columns)\n",
    "\n",
    "print('-'* 30)\n",
    "\n",
    "\n",
    "\n",
    "display(df_alunos_excel.shape[0])"
   ]
  },
  {
   "cell_type": "markdown",
   "id": "7a1c9451",
   "metadata": {},
   "source": [
    "---"
   ]
  },
  {
   "cell_type": "markdown",
   "id": "f5db134e",
   "metadata": {},
   "source": [
    "## Exercício 8 (Médio): Selecionando uma Coluna Específica\n",
    "\n",
    "*   **Tarefa:** A partir do DataFrame `df_alunos_excel`, selecione e exiba apenas a coluna 'Curso'."
   ]
  },
  {
   "cell_type": "code",
   "execution_count": 10,
   "id": "e6b3d77d",
   "metadata": {},
   "outputs": [
    {
     "data": {
      "text/html": [
       "<div>\n",
       "<style scoped>\n",
       "    .dataframe tbody tr th:only-of-type {\n",
       "        vertical-align: middle;\n",
       "    }\n",
       "\n",
       "    .dataframe tbody tr th {\n",
       "        vertical-align: top;\n",
       "    }\n",
       "\n",
       "    .dataframe thead th {\n",
       "        text-align: right;\n",
       "    }\n",
       "</style>\n",
       "<table border=\"1\" class=\"dataframe\">\n",
       "  <thead>\n",
       "    <tr style=\"text-align: right;\">\n",
       "      <th></th>\n",
       "      <th>Curso</th>\n",
       "    </tr>\n",
       "  </thead>\n",
       "  <tbody>\n",
       "    <tr>\n",
       "      <th>0</th>\n",
       "      <td>Engenharia</td>\n",
       "    </tr>\n",
       "    <tr>\n",
       "      <th>1</th>\n",
       "      <td>Direito</td>\n",
       "    </tr>\n",
       "    <tr>\n",
       "      <th>2</th>\n",
       "      <td>Medicina</td>\n",
       "    </tr>\n",
       "  </tbody>\n",
       "</table>\n",
       "</div>"
      ],
      "text/plain": [
       "        Curso\n",
       "0  Engenharia\n",
       "1     Direito\n",
       "2    Medicina"
      ]
     },
     "metadata": {},
     "output_type": "display_data"
    }
   ],
   "source": [
    "df_alunos_excel_2 = df_alunos_excel['Curso']\n",
    "df_alunos_excel_2 = pd.DataFrame(df_alunos_excel_2)\n",
    "\n",
    "display(df_alunos_excel_2)"
   ]
  },
  {
   "cell_type": "markdown",
   "id": "4a7e6028",
   "metadata": {},
   "source": [
    "---"
   ]
  }
 ],
 "metadata": {
  "kernelspec": {
   "display_name": ".venv",
   "language": "python",
   "name": "python3"
  },
  "language_info": {
   "codemirror_mode": {
    "name": "ipython",
    "version": 3
   },
   "file_extension": ".py",
   "mimetype": "text/x-python",
   "name": "python",
   "nbconvert_exporter": "python",
   "pygments_lexer": "ipython3",
   "version": "3.13.2"
  }
 },
 "nbformat": 4,
 "nbformat_minor": 5
}
