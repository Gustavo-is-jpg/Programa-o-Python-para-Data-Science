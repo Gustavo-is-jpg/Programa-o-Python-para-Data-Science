{
 "cells": [
  {
   "cell_type": "code",
   "execution_count": null,
   "metadata": {},
   "outputs": [],
   "source": [
    "! pip install selenium webdriver-manager\n",
    "! pip install pandas\n"
   ]
  },
  {
   "cell_type": "code",
   "execution_count": null,
   "metadata": {},
   "outputs": [],
   "source": [
    "import pandas as pd\n",
    "from selenium import webdriver\n",
    "from selenium.webdriver.chrome.service import Service\n",
    "from webdriver_manager.chrome import ChromeDriverManager\n",
    "from selenium.webdriver.common.by import By\n",
    "from selenium.webdriver.common.keys import Keys\n",
    "import time\n",
    "\n",
    "\n",
    "service = Service(ChromeDriverManager().install())\n"
   ]
  },
  {
   "cell_type": "code",
   "execution_count": 54,
   "metadata": {},
   "outputs": [
    {
     "ename": "NoSuchElementException",
     "evalue": "Message: no such element: Unable to locate element: {\"method\":\"xpath\",\"selector\":\"/html/body/div[1]/div[2]/header/div/svg\"}\n  (Session info: chrome=134.0.6998.178); For documentation on this error, please visit: https://www.selenium.dev/documentation/webdriver/troubleshooting/errors#no-such-element-exception\nStacktrace:\n\tGetHandleVerifier [0x008CC7F3+24435]\n\t(No symbol) [0x00852074]\n\t(No symbol) [0x007206E3]\n\t(No symbol) [0x00768B39]\n\t(No symbol) [0x00768E8B]\n\t(No symbol) [0x007B1AC2]\n\t(No symbol) [0x0078D804]\n\t(No symbol) [0x007AF20A]\n\t(No symbol) [0x0078D5B6]\n\t(No symbol) [0x0075C54F]\n\t(No symbol) [0x0075D894]\n\tGetHandleVerifier [0x00BD70A3+3213347]\n\tGetHandleVerifier [0x00BEB0C9+3295305]\n\tGetHandleVerifier [0x00BE558C+3271948]\n\tGetHandleVerifier [0x00967360+658144]\n\t(No symbol) [0x0085B27D]\n\t(No symbol) [0x00858208]\n\t(No symbol) [0x008583A9]\n\t(No symbol) [0x0084AAC0]\n\tBaseThreadInitThunk [0x765D7BA9+25]\n\tRtlInitializeExceptionChain [0x7778C0CB+107]\n\tRtlClearBits [0x7778C04F+191]\n",
     "output_type": "error",
     "traceback": [
      "\u001b[31m---------------------------------------------------------------------------\u001b[39m",
      "\u001b[31mNoSuchElementException\u001b[39m                    Traceback (most recent call last)",
      "\u001b[36mCell\u001b[39m\u001b[36m \u001b[39m\u001b[32mIn[54]\u001b[39m\u001b[32m, line 44\u001b[39m\n\u001b[32m     38\u001b[39m navegador.find_element(By.XPATH, ir_para_oi).click()\n\u001b[32m     41\u001b[39m calocar_a_redacao = \u001b[33m'\u001b[39m\u001b[33m/html/body/div[1]/div[2]/header/div/svg\u001b[39m\u001b[33m'\u001b[39m\n\u001b[32m---> \u001b[39m\u001b[32m44\u001b[39m \u001b[43mnavegador\u001b[49m\u001b[43m.\u001b[49m\u001b[43mfind_element\u001b[49m\u001b[43m(\u001b[49m\u001b[43mBy\u001b[49m\u001b[43m.\u001b[49m\u001b[43mXPATH\u001b[49m\u001b[43m,\u001b[49m\u001b[43m \u001b[49m\u001b[43mcalocar_a_redacao\u001b[49m\u001b[43m)\u001b[49m.click()\n",
      "\u001b[36mFile \u001b[39m\u001b[32m~\\AppData\\Roaming\\Python\\Python313\\site-packages\\selenium\\webdriver\\remote\\webdriver.py:917\u001b[39m, in \u001b[36mWebDriver.find_element\u001b[39m\u001b[34m(self, by, value)\u001b[39m\n\u001b[32m    914\u001b[39m         \u001b[38;5;28;01mraise\u001b[39;00m NoSuchElementException(\u001b[33mf\u001b[39m\u001b[33m\"\u001b[39m\u001b[33mCannot locate relative element with: \u001b[39m\u001b[38;5;132;01m{\u001b[39;00mby.root\u001b[38;5;132;01m}\u001b[39;00m\u001b[33m\"\u001b[39m)\n\u001b[32m    915\u001b[39m     \u001b[38;5;28;01mreturn\u001b[39;00m elements[\u001b[32m0\u001b[39m]\n\u001b[32m--> \u001b[39m\u001b[32m917\u001b[39m \u001b[38;5;28;01mreturn\u001b[39;00m \u001b[38;5;28;43mself\u001b[39;49m\u001b[43m.\u001b[49m\u001b[43mexecute\u001b[49m\u001b[43m(\u001b[49m\u001b[43mCommand\u001b[49m\u001b[43m.\u001b[49m\u001b[43mFIND_ELEMENT\u001b[49m\u001b[43m,\u001b[49m\u001b[43m \u001b[49m\u001b[43m{\u001b[49m\u001b[33;43m\"\u001b[39;49m\u001b[33;43musing\u001b[39;49m\u001b[33;43m\"\u001b[39;49m\u001b[43m:\u001b[49m\u001b[43m \u001b[49m\u001b[43mby\u001b[49m\u001b[43m,\u001b[49m\u001b[43m \u001b[49m\u001b[33;43m\"\u001b[39;49m\u001b[33;43mvalue\u001b[39;49m\u001b[33;43m\"\u001b[39;49m\u001b[43m:\u001b[49m\u001b[43m \u001b[49m\u001b[43mvalue\u001b[49m\u001b[43m}\u001b[49m\u001b[43m)\u001b[49m[\u001b[33m\"\u001b[39m\u001b[33mvalue\u001b[39m\u001b[33m\"\u001b[39m]\n",
      "\u001b[36mFile \u001b[39m\u001b[32m~\\AppData\\Roaming\\Python\\Python313\\site-packages\\selenium\\webdriver\\remote\\webdriver.py:448\u001b[39m, in \u001b[36mWebDriver.execute\u001b[39m\u001b[34m(self, driver_command, params)\u001b[39m\n\u001b[32m    446\u001b[39m response = \u001b[38;5;28mself\u001b[39m.command_executor.execute(driver_command, params)\n\u001b[32m    447\u001b[39m \u001b[38;5;28;01mif\u001b[39;00m response:\n\u001b[32m--> \u001b[39m\u001b[32m448\u001b[39m     \u001b[38;5;28;43mself\u001b[39;49m\u001b[43m.\u001b[49m\u001b[43merror_handler\u001b[49m\u001b[43m.\u001b[49m\u001b[43mcheck_response\u001b[49m\u001b[43m(\u001b[49m\u001b[43mresponse\u001b[49m\u001b[43m)\u001b[49m\n\u001b[32m    449\u001b[39m     response[\u001b[33m\"\u001b[39m\u001b[33mvalue\u001b[39m\u001b[33m\"\u001b[39m] = \u001b[38;5;28mself\u001b[39m._unwrap_value(response.get(\u001b[33m\"\u001b[39m\u001b[33mvalue\u001b[39m\u001b[33m\"\u001b[39m, \u001b[38;5;28;01mNone\u001b[39;00m))\n\u001b[32m    450\u001b[39m     \u001b[38;5;28;01mreturn\u001b[39;00m response\n",
      "\u001b[36mFile \u001b[39m\u001b[32m~\\AppData\\Roaming\\Python\\Python313\\site-packages\\selenium\\webdriver\\remote\\errorhandler.py:232\u001b[39m, in \u001b[36mErrorHandler.check_response\u001b[39m\u001b[34m(self, response)\u001b[39m\n\u001b[32m    230\u001b[39m         alert_text = value[\u001b[33m\"\u001b[39m\u001b[33malert\u001b[39m\u001b[33m\"\u001b[39m].get(\u001b[33m\"\u001b[39m\u001b[33mtext\u001b[39m\u001b[33m\"\u001b[39m)\n\u001b[32m    231\u001b[39m     \u001b[38;5;28;01mraise\u001b[39;00m exception_class(message, screen, stacktrace, alert_text)  \u001b[38;5;66;03m# type: ignore[call-arg]  # mypy is not smart enough here\u001b[39;00m\n\u001b[32m--> \u001b[39m\u001b[32m232\u001b[39m \u001b[38;5;28;01mraise\u001b[39;00m exception_class(message, screen, stacktrace)\n",
      "\u001b[31mNoSuchElementException\u001b[39m: Message: no such element: Unable to locate element: {\"method\":\"xpath\",\"selector\":\"/html/body/div[1]/div[2]/header/div/svg\"}\n  (Session info: chrome=134.0.6998.178); For documentation on this error, please visit: https://www.selenium.dev/documentation/webdriver/troubleshooting/errors#no-such-element-exception\nStacktrace:\n\tGetHandleVerifier [0x008CC7F3+24435]\n\t(No symbol) [0x00852074]\n\t(No symbol) [0x007206E3]\n\t(No symbol) [0x00768B39]\n\t(No symbol) [0x00768E8B]\n\t(No symbol) [0x007B1AC2]\n\t(No symbol) [0x0078D804]\n\t(No symbol) [0x007AF20A]\n\t(No symbol) [0x0078D5B6]\n\t(No symbol) [0x0075C54F]\n\t(No symbol) [0x0075D894]\n\tGetHandleVerifier [0x00BD70A3+3213347]\n\tGetHandleVerifier [0x00BEB0C9+3295305]\n\tGetHandleVerifier [0x00BE558C+3271948]\n\tGetHandleVerifier [0x00967360+658144]\n\t(No symbol) [0x0085B27D]\n\t(No symbol) [0x00858208]\n\t(No symbol) [0x008583A9]\n\t(No symbol) [0x0084AAC0]\n\tBaseThreadInitThunk [0x765D7BA9+25]\n\tRtlInitializeExceptionChain [0x7778C0CB+107]\n\tRtlClearBits [0x7778C04F+191]\n"
     ]
    }
   ],
   "source": [
    "\n",
    "navegador = webdriver.Chrome(service=service)\n",
    "\n",
    "\n",
    "navegador.get('https://saladofuturo.educacao.sp.gov.br/login-alunos')\n",
    "navegador.maximize_window()\n",
    "\n",
    "\n",
    "ra_campo_xpath = '/html/body/div[1]/div[2]/div[3]/div[2]/div[2]/div[1]/div/div/input'  # Este é um exemplo, você precisaria do XPath real\n",
    "ra = '000111473697'\n",
    "\n",
    "ra_ps_campo_xpath = '//*[@id=\":r1:\"]'\n",
    "ra_ps = '1'\n",
    "\n",
    "senha_campo = '//*[@id=\"input-senha\"]'\n",
    "senha = 'Husk###1'\n",
    "\n",
    "time.sleep(9)\n",
    "navegador.find_element(By.XPATH, ra_campo_xpath).send_keys(ra)\n",
    "navegador.find_element(By.XPATH, ra_ps_campo_xpath).send_keys(ra_ps)\n",
    "navegador.find_element(By.XPATH, senha_campo).send_keys(senha, Keys.ENTER)\n",
    "\n",
    "\n",
    "navegador.find_element(By.XPATH, senha_campo).send_keys(Keys.ENTER)\n",
    "navegador.find_element(By.XPATH, senha_campo).send_keys(Keys.ENTER)\n",
    "navegador.find_element(By.XPATH, senha_campo).send_keys(Keys.ENTER)\n",
    "\n",
    "ir_para_redacao = '//*[@id=\"root\"]/div[2]/div[2]/div/div[1]/div[2]/div/div/div/div[1]/div/div/div[2]/div/div[2]/div[2]/div[4]/div/div'\n",
    "ir_para_tarefa_redacao = '//*[@id=\"root\"]/div[2]/div[2]/div/div[1]/div[2]/div/div/div/div[1]/div/div/div[6]/div/div[2]/div/div/div/div/div[2]/p'\n",
    "\n",
    "time.sleep(6)\n",
    "navegador.find_element(By.XPATH, ir_para_redacao).click()\n",
    "\n",
    "time.sleep(4)\n",
    "navegador.find_element(By.XPATH, ir_para_tarefa_redacao).click()\n",
    "\n",
    "ir_para_oi = '//*[@id=\"root\"]/div[2]/div[2]/div/div[1]/div[2]/div/div/div/div[1]/div/div/div[6]/div/div[2]/div/div/div/div/div[7]/button'\n",
    "\n",
    "navegador.find_element(By.XPATH, ir_para_oi).click()\n",
    "\n",
    "\n",
    "calocar_a_redacao = '/html/body/div[1]/div[2]/header/div/svg'\n",
    "\n",
    "\n",
    "navegador.find_element(By.XPATH, calocar_a_redacao).click()\n",
    "\n"
   ]
  }
 ],
 "metadata": {
  "kernelspec": {
   "display_name": "Python 3",
   "language": "python",
   "name": "python3"
  },
  "language_info": {
   "codemirror_mode": {
    "name": "ipython",
    "version": 3
   },
   "file_extension": ".py",
   "mimetype": "text/x-python",
   "name": "python",
   "nbconvert_exporter": "python",
   "pygments_lexer": "ipython3",
   "version": "3.13.2"
  }
 },
 "nbformat": 4,
 "nbformat_minor": 2
}
