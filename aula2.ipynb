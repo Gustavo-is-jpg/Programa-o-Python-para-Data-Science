{
 "cells": [
  {
   "cell_type": "markdown",
   "id": "48a15492-62fe-4a9a-b924-417038c6b4c5",
   "metadata": {},
   "source": [
    "# Python: Variaves e tipos de Dados\n",
    "### Caderno da Aula do dia 7/4\n"
   ]
  },
  {
   "cell_type": "markdown",
   "id": "0e71590a-fc7a-451c-9b65-92f44f729743",
   "metadata": {},
   "source": [
    "<h2>Desfio 3</h2>\n",
    "\n",
    "<a>Fazer uma pograma para uma loja de tintas. A pessoa vai informar a ária em m2 que  deseja pinter, e o script calcuará a quantidade de latas de tintas que a pessoa deve compra e o valar. Considere que  litro de tinta pinta 3m2, ue cada lata contem 18 litros e que susta R$80,00</a>"
   ]
  },
  {
   "cell_type": "code",
   "execution_count": null,
   "id": "bf90a332-39b3-4bd3-8ee9-84ea40e89bfe",
   "metadata": {},
   "outputs": [
    {
     "name": "stdout",
     "output_type": "stream",
     "text": [
      "Qual e a áris(em M2) 1\n"
     ]
    },
    {
     "name": "stdout",
     "output_type": "stream",
     "text": [
      "Você deve compra 1 lata \n",
      "e tinta 3.0 \n",
      "o valor asse pago é R$ 80\n"
     ]
    }
   ],
   "source": [
    "aria = float(input('Qual e a áris(em M2)'))\n",
    "\n",
    "if (aria >= 54):\n",
    "    lata = int(aria // 54)\n",
    "    tinta = (aria * 3)\n",
    "    valor = (lata * 80)\n",
    "    print(f'Você deve compra {lata} lata \\ne tinta {tinta} \\no valor asse pago é R$ {valor}') \n",
    "\n",
    "else:\n",
    "    \n",
    "    lata = 1\n",
    "    tinta = (aria * 3)\n",
    "    valor = 80\n",
    "    print(f'Você deve compra {lata} lata \\ne tinta {tinta} \\no valor asse pago é R$ {valor}')"
   ]
  },
  {
   "cell_type": "markdown",
   "id": "3710de4a-8f7d-4886-a34a-39862cf823b6",
   "metadata": {},
   "source": [
    "<h2>Desfio 4</h2>\n",
    "\n",
    "<a>Faça um programa que pergunte quanto você ganha por hora e o numero de horas trabalhadas no mês. calcule e mestre o total do sue salario no referindo mês. Sabendo-se que são desscontados 11% para o imposto de rendae e para 8% INSS e 5% para sindicato. faça um rpograma que nos apresente:\n",
    "\n",
    "1 - O salaria Bruto\n",
    "2 - Quanto pagou de IR\n",
    "3 - Quanto pagou de INSS\n",
    "4 - Pagou para o Sindicato\n",
    "5 - Salario Liquedo\n",
    "</a>"
   ]
  },
  {
   "cell_type": "code",
   "execution_count": 7,
   "id": "f940e342-5fae-4711-86d0-a9a26cf59dd3",
   "metadata": {},
   "outputs": [
    {
     "name": "stdout",
     "output_type": "stream",
     "text": [
      "Quantos que você ganha por hora? 10\n",
      "Quantas horas você trabalhou por mês? 8\n"
     ]
    },
    {
     "name": "stdout",
     "output_type": "stream",
     "text": [
      "Salario bruto: 80.00\n",
      "Desconto do IR: 8.80\n",
      "Desconto do INSS: 5.70\n",
      "Cesconto do sindicato: 3.28\n",
      "O salari liquido: 62.23\n"
     ]
    }
   ],
   "source": [
    "ganha = float(input('Quantos que você ganha por hora?'))\n",
    "hora = float(input('Quantas horas você trabalhou por mês?'))\n",
    "\n",
    "\n",
    "bruto = ganha * hora\n",
    "\n",
    "\n",
    "\n",
    "ir = (11/100) * bruto\n",
    "\n",
    "\n",
    "\n",
    "inss = (bruto - ir) * 0.08 \n",
    "\n",
    "\n",
    "\n",
    "sindicato = ((bruto - ir - inss) * 0.05)\n",
    "\n",
    "\n",
    "\n",
    "liquido = bruto - (sindicato + inss + ir) \n",
    "\n",
    "\n",
    "print(f'Salario bruto: {bruto:.2f}')\n",
    "print(f'Desconto do IR: {ir:.2f}')\n",
    "print(f'Desconto do INSS: {inss:.2f}')\n",
    "print(f'Cesconto do sindicato: {sindicato:.2f}')\n",
    "print(f'O salari liquido: {liquido:.2f}')"
   ]
  }
 ],
 "metadata": {
  "kernelspec": {
   "display_name": "Python 3 (ipykernel)",
   "language": "python",
   "name": "python3"
  },
  "language_info": {
   "codemirror_mode": {
    "name": "ipython",
    "version": 3
   },
   "file_extension": ".py",
   "mimetype": "text/x-python",
   "name": "python",
   "nbconvert_exporter": "python",
   "pygments_lexer": "ipython3",
   "version": "3.13.2"
  }
 },
 "nbformat": 4,
 "nbformat_minor": 5
}
