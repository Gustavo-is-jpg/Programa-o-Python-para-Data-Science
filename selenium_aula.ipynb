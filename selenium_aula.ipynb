{
 "cells": [
  {
   "cell_type": "code",
   "execution_count": 25,
   "id": "1144152c",
   "metadata": {},
   "outputs": [
    {
     "name": "stdout",
     "output_type": "stream",
     "text": [
      "Requirement already satisfied: selenium in c:\\users\\fic-ti especifico\\documents\\gustavo\\gustavo\\.venv\\lib\\site-packages (4.32.0)\n",
      "Requirement already satisfied: webdriver-manager in c:\\users\\fic-ti especifico\\documents\\gustavo\\gustavo\\.venv\\lib\\site-packages (4.0.2)\n",
      "Requirement already satisfied: urllib3<3,>=1.26 in c:\\users\\fic-ti especifico\\documents\\gustavo\\gustavo\\.venv\\lib\\site-packages (from urllib3[socks]<3,>=1.26->selenium) (2.4.0)\n",
      "Requirement already satisfied: trio~=0.17 in c:\\users\\fic-ti especifico\\documents\\gustavo\\gustavo\\.venv\\lib\\site-packages (from selenium) (0.30.0)\n",
      "Requirement already satisfied: trio-websocket~=0.9 in c:\\users\\fic-ti especifico\\documents\\gustavo\\gustavo\\.venv\\lib\\site-packages (from selenium) (0.12.2)\n",
      "Requirement already satisfied: certifi>=2021.10.8 in c:\\users\\fic-ti especifico\\documents\\gustavo\\gustavo\\.venv\\lib\\site-packages (from selenium) (2025.4.26)\n",
      "Requirement already satisfied: typing_extensions~=4.9 in c:\\users\\fic-ti especifico\\documents\\gustavo\\gustavo\\.venv\\lib\\site-packages (from selenium) (4.13.2)\n",
      "Requirement already satisfied: websocket-client~=1.8 in c:\\users\\fic-ti especifico\\documents\\gustavo\\gustavo\\.venv\\lib\\site-packages (from selenium) (1.8.0)\n",
      "Requirement already satisfied: requests in c:\\users\\fic-ti especifico\\documents\\gustavo\\gustavo\\.venv\\lib\\site-packages (from webdriver-manager) (2.32.3)\n",
      "Requirement already satisfied: python-dotenv in c:\\users\\fic-ti especifico\\documents\\gustavo\\gustavo\\.venv\\lib\\site-packages (from webdriver-manager) (1.1.0)\n",
      "Requirement already satisfied: packaging in c:\\users\\fic-ti especifico\\documents\\gustavo\\gustavo\\.venv\\lib\\site-packages (from webdriver-manager) (24.2)\n",
      "Requirement already satisfied: attrs>=23.2.0 in c:\\users\\fic-ti especifico\\documents\\gustavo\\gustavo\\.venv\\lib\\site-packages (from trio~=0.17->selenium) (25.3.0)\n",
      "Requirement already satisfied: sortedcontainers in c:\\users\\fic-ti especifico\\documents\\gustavo\\gustavo\\.venv\\lib\\site-packages (from trio~=0.17->selenium) (2.4.0)\n",
      "Requirement already satisfied: idna in c:\\users\\fic-ti especifico\\documents\\gustavo\\gustavo\\.venv\\lib\\site-packages (from trio~=0.17->selenium) (3.10)\n",
      "Requirement already satisfied: outcome in c:\\users\\fic-ti especifico\\documents\\gustavo\\gustavo\\.venv\\lib\\site-packages (from trio~=0.17->selenium) (1.3.0.post0)\n",
      "Requirement already satisfied: sniffio>=1.3.0 in c:\\users\\fic-ti especifico\\documents\\gustavo\\gustavo\\.venv\\lib\\site-packages (from trio~=0.17->selenium) (1.3.1)\n",
      "Requirement already satisfied: cffi>=1.14 in c:\\users\\fic-ti especifico\\documents\\gustavo\\gustavo\\.venv\\lib\\site-packages (from trio~=0.17->selenium) (1.17.1)\n",
      "Requirement already satisfied: wsproto>=0.14 in c:\\users\\fic-ti especifico\\documents\\gustavo\\gustavo\\.venv\\lib\\site-packages (from trio-websocket~=0.9->selenium) (1.2.0)\n",
      "Requirement already satisfied: pysocks!=1.5.7,<2.0,>=1.5.6 in c:\\users\\fic-ti especifico\\documents\\gustavo\\gustavo\\.venv\\lib\\site-packages (from urllib3[socks]<3,>=1.26->selenium) (1.7.1)\n",
      "Requirement already satisfied: charset-normalizer<4,>=2 in c:\\users\\fic-ti especifico\\documents\\gustavo\\gustavo\\.venv\\lib\\site-packages (from requests->webdriver-manager) (3.4.2)\n",
      "Requirement already satisfied: pycparser in c:\\users\\fic-ti especifico\\documents\\gustavo\\gustavo\\.venv\\lib\\site-packages (from cffi>=1.14->trio~=0.17->selenium) (2.22)\n",
      "Requirement already satisfied: h11<1,>=0.9.0 in c:\\users\\fic-ti especifico\\documents\\gustavo\\gustavo\\.venv\\lib\\site-packages (from wsproto>=0.14->trio-websocket~=0.9->selenium) (0.16.0)\n"
     ]
    },
    {
     "name": "stderr",
     "output_type": "stream",
     "text": [
      "\n",
      "[notice] A new release of pip is available: 25.0.1 -> 25.1.1\n",
      "[notice] To update, run: python.exe -m pip install --upgrade pip\n",
      "\n",
      "[notice] A new release of pip is available: 25.0.1 -> 25.1.1\n",
      "[notice] To update, run: python.exe -m pip install --upgrade pip\n"
     ]
    },
    {
     "name": "stdout",
     "output_type": "stream",
     "text": [
      "Requirement already satisfied: pandas in c:\\users\\fic-ti especifico\\documents\\gustavo\\gustavo\\.venv\\lib\\site-packages (2.2.3)\n",
      "Requirement already satisfied: numpy>=1.26.0 in c:\\users\\fic-ti especifico\\documents\\gustavo\\gustavo\\.venv\\lib\\site-packages (from pandas) (2.2.4)\n",
      "Requirement already satisfied: python-dateutil>=2.8.2 in c:\\users\\fic-ti especifico\\documents\\gustavo\\gustavo\\.venv\\lib\\site-packages (from pandas) (2.9.0.post0)\n",
      "Requirement already satisfied: pytz>=2020.1 in c:\\users\\fic-ti especifico\\documents\\gustavo\\gustavo\\.venv\\lib\\site-packages (from pandas) (2025.2)\n",
      "Requirement already satisfied: tzdata>=2022.7 in c:\\users\\fic-ti especifico\\documents\\gustavo\\gustavo\\.venv\\lib\\site-packages (from pandas) (2025.2)\n",
      "Requirement already satisfied: six>=1.5 in c:\\users\\fic-ti especifico\\documents\\gustavo\\gustavo\\.venv\\lib\\site-packages (from python-dateutil>=2.8.2->pandas) (1.17.0)\n"
     ]
    }
   ],
   "source": [
    "# quero usar o selenium com o chorome\n",
    "# para isso preciso instalar o chromedriver-mangen para instalar o chromedriver\n",
    "# e o selenium para usar o chrome\n",
    "\n",
    "! pip install selenium webdriver-manager\n",
    "! pip install pandas\n",
    "\n",
    "import pandas as pd\n"
   ]
  },
  {
   "cell_type": "code",
   "execution_count": null,
   "id": "719617e4",
   "metadata": {},
   "outputs": [],
   "source": [
    "import pandas as pd\n",
    "from selenium import webdriver\n",
    "from selenium.webdriver.chrome.service import Service\n",
    "from webdriver_manager.chrome import ChromeDriverManager\n",
    "from selenium.webdriver.common.by import By\n",
    "from selenium.webdriver.common.keys import Keys\n",
    "\n",
    "service = Service(ChromeDriverManager().install())\n",
    "\n",
    "navegador = webdriver.Chrome(service=service)\n",
    "\n",
    "navegador.get('https://www.mercadolivre.com.br/')\n",
    "navegador.maximize_window()\n",
    "\n",
    "form = '/html/body/header/div/div[2]/form/input'\n",
    "\n",
    "navegador.find_element(By.XPATH, form).send_keys('ps5', Keys.ENTER)\n",
    "\n",
    "\n",
    "form2 = '/html/body/main/div/div[2]/section/div[6]/ol/li[1]/div/div/div/div[2]/h3/a'\n",
    "\n",
    "navegador.find_element(By.XPATH, form2).send_keys('ps5', Keys.ENTER)\n",
    "\n",
    "modelo = '/html/body/main/div[2]/div[5]/div[2]/div[1]/div/div[2]/div[2]/div[1]/div/div[2]/h1'\n",
    "\n",
    "pronso = '/html/body/main/div[2]/div[5]/div[2]/div[1]/div/div[2]/div[2]/div[2]/div/div[1]/div/span[1]/span/span[2]'\n",
    "\n",
    "modelo = navegador.find_element(By.XPATH, modelo).text\n",
    "pronso = navegador.find_element(By.XPATH, pronso).text\n",
    "\n",
    "\n",
    "navegador.quit()"
   ]
  },
  {
   "cell_type": "code",
   "execution_count": 66,
   "id": "569ff509",
   "metadata": {},
   "outputs": [
    {
     "name": "stdout",
     "output_type": "stream",
     "text": [
      "<class 'str'>\n"
     ]
    }
   ],
   "source": [
    "print(type(modelo))"
   ]
  },
  {
   "cell_type": "code",
   "execution_count": 67,
   "id": "a3212c10",
   "metadata": {},
   "outputs": [
    {
     "data": {
      "text/html": [
       "<div>\n",
       "<style scoped>\n",
       "    .dataframe tbody tr th:only-of-type {\n",
       "        vertical-align: middle;\n",
       "    }\n",
       "\n",
       "    .dataframe tbody tr th {\n",
       "        vertical-align: top;\n",
       "    }\n",
       "\n",
       "    .dataframe thead th {\n",
       "        text-align: right;\n",
       "    }\n",
       "</style>\n",
       "<table border=\"1\" class=\"dataframe\">\n",
       "  <thead>\n",
       "    <tr style=\"text-align: right;\">\n",
       "      <th></th>\n",
       "      <th>modelo</th>\n",
       "      <th>Preço</th>\n",
       "    </tr>\n",
       "  </thead>\n",
       "  <tbody>\n",
       "    <tr>\n",
       "      <th>0</th>\n",
       "      <td>Console PlayStation® 5 Slim Edição Digital 1TB...</td>\n",
       "      <td>3.280</td>\n",
       "    </tr>\n",
       "  </tbody>\n",
       "</table>\n",
       "</div>"
      ],
      "text/plain": [
       "                                              modelo  Preço\n",
       "0  Console PlayStation® 5 Slim Edição Digital 1TB...  3.280"
      ]
     },
     "metadata": {},
     "output_type": "display_data"
    }
   ],
   "source": [
    "import pandas as pd\n",
    "\n",
    "modelo1 = [modelo]\n",
    "pronso1 = [pronso]\n",
    "\n",
    "\n",
    "\n",
    "di = {\n",
    "    'modelo': modelo1,\n",
    "    'Preço': pronso1\n",
    "}\n",
    "\n",
    "df = pd.DataFrame(di)\n",
    "\n",
    "display(df)"
   ]
  }
 ],
 "metadata": {
  "kernelspec": {
   "display_name": ".venv",
   "language": "python",
   "name": "python3"
  },
  "language_info": {
   "codemirror_mode": {
    "name": "ipython",
    "version": 3
   },
   "file_extension": ".py",
   "mimetype": "text/x-python",
   "name": "python",
   "nbconvert_exporter": "python",
   "pygments_lexer": "ipython3",
   "version": "3.13.2"
  }
 },
 "nbformat": 4,
 "nbformat_minor": 5
}
